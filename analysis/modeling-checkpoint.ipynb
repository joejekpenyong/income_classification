{
 "cells": [
  {
   "cell_type": "markdown",
   "id": "60e0d6a3-8f1d-44f9-89b5-a6226d53d4a5",
   "metadata": {
    "tags": []
   },
   "source": [
    "# Income Classification"
   ]
  },
  {
   "cell_type": "markdown",
   "id": "ca9b6abe-7610-4f78-932f-2c75aa8af002",
   "metadata": {
    "tags": []
   },
   "source": [
    "## Introduction"
   ]
  },
  {
   "cell_type": "markdown",
   "id": "a869d0bb-de95-4762-8c1f-ea0c05e5eb31",
   "metadata": {
    "tags": []
   },
   "source": [
    "In this income classification project, our objective is to identify the key characteristics associated with individuals who earn more or less than $50,000 per year. We will be working with a sample dataset from the US Census archive, which provides a comprehensive set of demographic, socioeconomic, and employment-related attributes for a diverse group of ~300,000 individuals. The dataset contains valuable information that can help us gain insights into the factors that contribute to income levels.\n",
    "\n",
    "The focus of our research question revolves around understanding the relationship between various features in the dataset and the target variable, which represents whether an individual earns more or less than $50,000 annually. By examining these characteristics, we aim to build a predictive model that can accurately classify individuals into their respective income categories based on their attributes.\n",
    "\n",
    "Identifying the factors that contribute to higher or lower incomes is crucial for several reasons. It can provide valuable insights into income inequality, socioeconomic disparities, and the factors that influence financial success. Understanding these factors can help policymakers, organizations, and individuals make informed decisions and design targeted interventions to promote upward mobility and improve economic well-being.\n",
    "\n",
    "Throughout this project, we will leverage various machine learning techniques and statistical analysis methods to explore the dataset, preprocess the data, perform feature engineering, and train predictive models. Our goal is to uncover the most influential features and develop a robust classification model that can effectively distinguish between high and low-income individuals.\n",
    "\n",
    "By successfully identifying the characteristics associated with different income levels, we can contribute to the understanding of socioeconomic dynamics and provide practical insights for decision-making in areas such as policy formulation, resource allocation, and economic planning.\n",
    "\n",
    "Let's dive into the analysis and explore the census dataset to uncover the key factors that influence income classification.\n",
    "\n",
    "\n",
    "\n",
    "\n",
    "\n",
    "\n"
   ]
  },
  {
   "cell_type": "markdown",
   "id": "5a412937-7294-4595-9c73-0470f7e7b971",
   "metadata": {},
   "source": [
    "## Setup"
   ]
  },
  {
   "cell_type": "markdown",
   "id": "19efcd4e-10f0-4d54-b474-528b65b5941a",
   "metadata": {},
   "source": [
    "We start by importing the python packages needed for the project."
   ]
  },
  {
   "cell_type": "code",
   "execution_count": 15,
   "id": "f9781cfa-78d6-418d-af37-2f0312735791",
   "metadata": {},
   "outputs": [],
   "source": [
    "import pandas as pd\n",
    "import numpy as np\n",
    "import seaborn as sns\n",
    "import matplotlib.pyplot as plt\n",
    "import statsmodels.api as sm\n",
    "from sklearn import preprocessing\n",
    "from sklearn.ensemble import AdaBoostClassifier, RandomForestClassifier\n",
    "from sklearn.linear_model import LogisticRegression\n",
    "from sklearn.model_selection import GridSearchCV, train_test_split, StratifiedKFold\n",
    "from sklearn.metrics import confusion_matrix, roc_curve, roc_auc_score, classification_report\n",
    "import os"
   ]
  },
  {
   "cell_type": "markdown",
   "id": "cb4b8737-8cf9-4150-9256-7d8614976677",
   "metadata": {},
   "source": [
    "Next, we import source functions from the src folder. To enable this, we set the working directory to the home folder."
   ]
  },
  {
   "cell_type": "code",
   "execution_count": 16,
   "id": "bcefc1ac-a977-4503-ac97-411c9b746887",
   "metadata": {},
   "outputs": [
    {
     "data": {
      "text/plain": [
       "'C:\\\\Users\\\\joeje\\\\Documents\\\\Github Projects\\\\income_classification'"
      ]
     },
     "execution_count": 16,
     "metadata": {},
     "output_type": "execute_result"
    }
   ],
   "source": [
    "# Navigate to root\n",
    "if os.getcwd().endswith(\"analysis\"):\n",
    "    PATH_TO_ROOT = \"../\"\n",
    "    os.chdir(PATH_TO_ROOT)\n",
    "os.getcwd() "
   ]
  },
  {
   "cell_type": "code",
   "execution_count": 17,
   "id": "067e123c-b571-4119-8c55-3fd86569e102",
   "metadata": {},
   "outputs": [],
   "source": [
    "# import source functions\n",
    "from src.preprocessing import * \n",
    "from src.feature_engineering import *"
   ]
  },
  {
   "cell_type": "markdown",
   "id": "a3c83d2b-46c7-4be6-864d-c0737dac0419",
   "metadata": {},
   "source": [
    "#### Load Raw Data"
   ]
  },
  {
   "cell_type": "markdown",
   "id": "a8429134-3962-404f-a7f0-d38941b66e37",
   "metadata": {},
   "source": [
    "Now, we load the raw data from the `data` folder. Our data was already split into train and test sets."
   ]
  },
  {
   "cell_type": "code",
   "execution_count": 18,
   "id": "6b2c86b1-97b8-402b-a2aa-5bdca0db9452",
   "metadata": {
    "tags": []
   },
   "outputs": [],
   "source": [
    "train = load_data(\"data/census_income_learn.csv\")\n",
    "test = load_data(\"data/census_income_test.csv\")"
   ]
  },
  {
   "cell_type": "markdown",
   "id": "51cf43ca-0efe-400d-8730-dae81665fa6a",
   "metadata": {},
   "source": [
    "We examine the dataset using the head() method."
   ]
  },
  {
   "cell_type": "code",
   "execution_count": 19,
   "id": "6a54bef4-8d13-4771-acbf-d131ac8e9086",
   "metadata": {},
   "outputs": [
    {
     "data": {
      "text/html": [
       "<div>\n",
       "<style scoped>\n",
       "    .dataframe tbody tr th:only-of-type {\n",
       "        vertical-align: middle;\n",
       "    }\n",
       "\n",
       "    .dataframe tbody tr th {\n",
       "        vertical-align: top;\n",
       "    }\n",
       "\n",
       "    .dataframe thead th {\n",
       "        text-align: right;\n",
       "    }\n",
       "</style>\n",
       "<table border=\"1\" class=\"dataframe\">\n",
       "  <thead>\n",
       "    <tr style=\"text-align: right;\">\n",
       "      <th></th>\n",
       "      <th>age</th>\n",
       "      <th>workclass</th>\n",
       "      <th>industry_code</th>\n",
       "      <th>occupation_code</th>\n",
       "      <th>education</th>\n",
       "      <th>wage_ph</th>\n",
       "      <th>educ_last_wk</th>\n",
       "      <th>marital_status</th>\n",
       "      <th>maj_ind_code</th>\n",
       "      <th>maj_occ_code</th>\n",
       "      <th>...</th>\n",
       "      <th>father_country</th>\n",
       "      <th>mother_country</th>\n",
       "      <th>self_country</th>\n",
       "      <th>citizenship</th>\n",
       "      <th>own_business</th>\n",
       "      <th>vet_quest</th>\n",
       "      <th>vet_benefit</th>\n",
       "      <th>weeks_worked</th>\n",
       "      <th>year</th>\n",
       "      <th>income</th>\n",
       "    </tr>\n",
       "  </thead>\n",
       "  <tbody>\n",
       "    <tr>\n",
       "      <th>0</th>\n",
       "      <td>73</td>\n",
       "      <td>Not in universe</td>\n",
       "      <td>0</td>\n",
       "      <td>0</td>\n",
       "      <td>High school graduate</td>\n",
       "      <td>0</td>\n",
       "      <td>Not in universe</td>\n",
       "      <td>Widowed</td>\n",
       "      <td>Not in universe or children</td>\n",
       "      <td>Not in universe</td>\n",
       "      <td>...</td>\n",
       "      <td>United-States</td>\n",
       "      <td>United-States</td>\n",
       "      <td>United-States</td>\n",
       "      <td>Native- Born in the United States</td>\n",
       "      <td>0</td>\n",
       "      <td>Not in universe</td>\n",
       "      <td>2</td>\n",
       "      <td>0</td>\n",
       "      <td>95</td>\n",
       "      <td>- 50000.</td>\n",
       "    </tr>\n",
       "    <tr>\n",
       "      <th>1</th>\n",
       "      <td>58</td>\n",
       "      <td>Self-employed-not incorporated</td>\n",
       "      <td>4</td>\n",
       "      <td>34</td>\n",
       "      <td>Some college but no degree</td>\n",
       "      <td>0</td>\n",
       "      <td>Not in universe</td>\n",
       "      <td>Divorced</td>\n",
       "      <td>Construction</td>\n",
       "      <td>Precision production craft &amp; repair</td>\n",
       "      <td>...</td>\n",
       "      <td>United-States</td>\n",
       "      <td>United-States</td>\n",
       "      <td>United-States</td>\n",
       "      <td>Native- Born in the United States</td>\n",
       "      <td>0</td>\n",
       "      <td>Not in universe</td>\n",
       "      <td>2</td>\n",
       "      <td>52</td>\n",
       "      <td>94</td>\n",
       "      <td>- 50000.</td>\n",
       "    </tr>\n",
       "    <tr>\n",
       "      <th>2</th>\n",
       "      <td>18</td>\n",
       "      <td>Not in universe</td>\n",
       "      <td>0</td>\n",
       "      <td>0</td>\n",
       "      <td>10th grade</td>\n",
       "      <td>0</td>\n",
       "      <td>High school</td>\n",
       "      <td>Never married</td>\n",
       "      <td>Not in universe or children</td>\n",
       "      <td>Not in universe</td>\n",
       "      <td>...</td>\n",
       "      <td>Vietnam</td>\n",
       "      <td>Vietnam</td>\n",
       "      <td>Vietnam</td>\n",
       "      <td>Foreign born- Not a citizen of U S</td>\n",
       "      <td>0</td>\n",
       "      <td>Not in universe</td>\n",
       "      <td>2</td>\n",
       "      <td>0</td>\n",
       "      <td>95</td>\n",
       "      <td>- 50000.</td>\n",
       "    </tr>\n",
       "    <tr>\n",
       "      <th>3</th>\n",
       "      <td>9</td>\n",
       "      <td>Not in universe</td>\n",
       "      <td>0</td>\n",
       "      <td>0</td>\n",
       "      <td>Children</td>\n",
       "      <td>0</td>\n",
       "      <td>Not in universe</td>\n",
       "      <td>Never married</td>\n",
       "      <td>Not in universe or children</td>\n",
       "      <td>Not in universe</td>\n",
       "      <td>...</td>\n",
       "      <td>United-States</td>\n",
       "      <td>United-States</td>\n",
       "      <td>United-States</td>\n",
       "      <td>Native- Born in the United States</td>\n",
       "      <td>0</td>\n",
       "      <td>Not in universe</td>\n",
       "      <td>0</td>\n",
       "      <td>0</td>\n",
       "      <td>94</td>\n",
       "      <td>- 50000.</td>\n",
       "    </tr>\n",
       "    <tr>\n",
       "      <th>4</th>\n",
       "      <td>10</td>\n",
       "      <td>Not in universe</td>\n",
       "      <td>0</td>\n",
       "      <td>0</td>\n",
       "      <td>Children</td>\n",
       "      <td>0</td>\n",
       "      <td>Not in universe</td>\n",
       "      <td>Never married</td>\n",
       "      <td>Not in universe or children</td>\n",
       "      <td>Not in universe</td>\n",
       "      <td>...</td>\n",
       "      <td>United-States</td>\n",
       "      <td>United-States</td>\n",
       "      <td>United-States</td>\n",
       "      <td>Native- Born in the United States</td>\n",
       "      <td>0</td>\n",
       "      <td>Not in universe</td>\n",
       "      <td>0</td>\n",
       "      <td>0</td>\n",
       "      <td>94</td>\n",
       "      <td>- 50000.</td>\n",
       "    </tr>\n",
       "  </tbody>\n",
       "</table>\n",
       "<p>5 rows × 42 columns</p>\n",
       "</div>"
      ],
      "text/plain": [
       "   age                        workclass  industry_code  occupation_code  \\\n",
       "0   73                  Not in universe              0                0   \n",
       "1   58   Self-employed-not incorporated              4               34   \n",
       "2   18                  Not in universe              0                0   \n",
       "3    9                  Not in universe              0                0   \n",
       "4   10                  Not in universe              0                0   \n",
       "\n",
       "                     education  wage_ph      educ_last_wk  marital_status  \\\n",
       "0         High school graduate        0   Not in universe         Widowed   \n",
       "1   Some college but no degree        0   Not in universe        Divorced   \n",
       "2                   10th grade        0       High school   Never married   \n",
       "3                     Children        0   Not in universe   Never married   \n",
       "4                     Children        0   Not in universe   Never married   \n",
       "\n",
       "                   maj_ind_code                          maj_occ_code  ...  \\\n",
       "0   Not in universe or children                       Not in universe  ...   \n",
       "1                  Construction   Precision production craft & repair  ...   \n",
       "2   Not in universe or children                       Not in universe  ...   \n",
       "3   Not in universe or children                       Not in universe  ...   \n",
       "4   Not in universe or children                       Not in universe  ...   \n",
       "\n",
       "   father_country  mother_country    self_country  \\\n",
       "0   United-States   United-States   United-States   \n",
       "1   United-States   United-States   United-States   \n",
       "2         Vietnam         Vietnam         Vietnam   \n",
       "3   United-States   United-States   United-States   \n",
       "4   United-States   United-States   United-States   \n",
       "\n",
       "                            citizenship own_business         vet_quest  \\\n",
       "0     Native- Born in the United States            0   Not in universe   \n",
       "1     Native- Born in the United States            0   Not in universe   \n",
       "2   Foreign born- Not a citizen of U S             0   Not in universe   \n",
       "3     Native- Born in the United States            0   Not in universe   \n",
       "4     Native- Born in the United States            0   Not in universe   \n",
       "\n",
       "   vet_benefit  weeks_worked  year     income  \n",
       "0            2             0    95   - 50000.  \n",
       "1            2            52    94   - 50000.  \n",
       "2            2             0    95   - 50000.  \n",
       "3            0             0    94   - 50000.  \n",
       "4            0             0    94   - 50000.  \n",
       "\n",
       "[5 rows x 42 columns]"
      ]
     },
     "execution_count": 19,
     "metadata": {},
     "output_type": "execute_result"
    }
   ],
   "source": [
    "train.head()"
   ]
  },
  {
   "cell_type": "markdown",
   "id": "3e846bdb-7f61-4b1c-8ea2-8143cd1bb412",
   "metadata": {},
   "source": [
    "The unit of observation in the dataset is an individual. The last column is the target variable. It classifies individuals' annual income above or below $50,000. \n",
    "\n",
    "We check the dimensions of the datasets. Both train and test sets have 42 columns. The train set has over twice as many observations as the test set."
   ]
  },
  {
   "cell_type": "code",
   "execution_count": 31,
   "id": "a75d1d69-dec1-4e01-b427-50794fca13e8",
   "metadata": {},
   "outputs": [
    {
     "name": "stdout",
     "output_type": "stream",
     "text": [
      "Train shape: (199523, 29)\n",
      "Test shape: (99762, 29)\n"
     ]
    }
   ],
   "source": [
    "print(\"Train shape:\", train.shape)\n",
    "print(\"Test shape:\", test.shape)"
   ]
  },
  {
   "cell_type": "markdown",
   "id": "5376cad9-df5e-495e-b756-0ff150fbee12",
   "metadata": {},
   "source": [
    "## Pre-processing"
   ]
  },
  {
   "cell_type": "markdown",
   "id": "8c3fe494-8bd0-4201-b2d4-db62f9fab882",
   "metadata": {},
   "source": [
    "In this section, we focus on data preprocessing to ensure the data is in the appropriate format for analysis. The preprocessing steps that are relevant to columns are applied consistent across both the train and test sets to maintain uniformity. This is important because when we train and evaluate our models, having consistent data formatting facilitates reliable model performance assessment and comparison. By preprocessing the data in a standardized manner, we can ensure that any differences in model outcomes are primarily driven by the models themselves rather than inconsistencies in the data."
   ]
  },
  {
   "cell_type": "markdown",
   "id": "2dcddf54-a6c7-4a6b-abb1-8f38e49425d0",
   "metadata": {},
   "source": [
    "#### Dimensionality Reduction"
   ]
  },
  {
   "cell_type": "markdown",
   "id": "b2034191-bf12-42ad-90f8-b9d937fc3e33",
   "metadata": {},
   "source": [
    "Dimensionality reduction is a valuable technique used in many data analysis and machine learning projects. For this project, we are applying dimensionality reduction to address the challenges posed by high-dimensional data. High-dimensional data refers to datasets with a large number of features or variables (typically more than 10). Although having abundant information can be beneficial, it can also lead to issues such as increased computational complexity, the curse of dimensionality, and overfitting. By reducing the dimensionality of the data, we aim to overcome these challenges.\n",
    "\n",
    "To start, we drop some columns based on our domain expertise and considerations. The following columns are excluded from our analysis:\n",
    "\n",
    "- `instance_weight`: We do not take into account the weight of each observation in the general population, as it is not relevant to our research question.\n",
    "- `industry_code` and `occupation_code`: The information contained in these columns is already captured in the major industry code and major occupation code variables, respectively, making them redundant.\n",
    "- `educ_last_wk`: This variable, which indicates an individual's education level from the previous week, is sparse as it does not apply to many respondents. Therefore, we exclude it from our analysis.\n",
    "- `region_prev_res` and `state_prev_res`: These variables, which provide information about an individual's previous residential state and region, respectively, are also sparse and do not apply to a significant number of respondents who are non-movers. Hence, we remove them from our dataset.\n",
    "- `household_details`: This column offers a more detailed version of the household_summary variable. To reduce dimensionality and avoid redundancy, we drop household_details.\n",
    "- `citizenship`: Since there is already another column (`sself_country`) that provides information about an individual's nationality, we exclude the `citizenship` column and rely on `self_country` instead.\n",
    "- `vet_quest`: This column is sparsely populated, and we can already determine if an individual is a veteran using the `vet_benefit` column. Hence, we remove `vet_quest` from our dataset.\n",
    "- `employer_size`: This variable exhibits high correlation with the number of weeks worked. Since the latter has higher variance, we decide to drop `employer_size` from our analysis.\n",
    "\n",
    "By dropping these columns, we aim to streamline our dataset and focus on the most relevant variables for our income classification task."
   ]
  },
  {
   "cell_type": "code",
   "execution_count": 21,
   "id": "faa984ed-939b-434f-8551-f218eeefc7f2",
   "metadata": {},
   "outputs": [],
   "source": [
    "# define columns to drop\n",
    "cols_to_drop = [\"instance_weight\", \"industry_code\", \"occupation_code\", \"educ_last_wk\",\n",
    "                \"unemp_type\", \"region_prev_res\", \"state_prev_res\", \"household_details\", \"citizenship\",\n",
    "                \"vet_quest\", \"employer_size\"]\n",
    "\n",
    "# drop columns from both train and test sets\n",
    "train = train.drop(cols_to_drop, axis=1)\n",
    "test = test.drop(cols_to_drop, axis=1)"
   ]
  },
  {
   "cell_type": "code",
   "execution_count": 22,
   "id": "18465d47-64e7-40d9-b33b-884dab5bc4bb",
   "metadata": {},
   "outputs": [
    {
     "name": "stdout",
     "output_type": "stream",
     "text": [
      "Train shape: (199523, 31)\n",
      "Test shape: (99762, 31)\n"
     ]
    }
   ],
   "source": [
    "print(\"Train shape:\", train.shape)\n",
    "print(\"Test shape:\", test.shape)"
   ]
  },
  {
   "cell_type": "markdown",
   "id": "3f9b4597-3fd8-4d41-9b2a-b78d46055a8f",
   "metadata": {},
   "source": [
    "#### Fix data types"
   ]
  },
  {
   "cell_type": "markdown",
   "id": "3e5ef416-1998-4c8b-8119-f3a2f04a4957",
   "metadata": {},
   "source": [
    "Next, we proceed to verify and adjust the data types of each variable to align with their intended meaning and the requirements of our models. Our initial step involves examining the current data types assigned to each variable."
   ]
  },
  {
   "cell_type": "code",
   "execution_count": 23,
   "id": "b6a48431-556e-4fb2-884c-ae57dccdc900",
   "metadata": {},
   "outputs": [
    {
     "data": {
      "text/plain": [
       "age                      int64\n",
       "workclass               object\n",
       "education               object\n",
       "wage_ph                  int64\n",
       "marital_status          object\n",
       "maj_ind_code            object\n",
       "maj_occ_code            object\n",
       "race                    object\n",
       "hispanic_origin         object\n",
       "sex                     object\n",
       "union_member            object\n",
       "emp_status              object\n",
       "capgain                  int64\n",
       "caploss                  int64\n",
       "stock_div                int64\n",
       "tax_filer_status        object\n",
       "household_summary       object\n",
       "migration_msa           object\n",
       "migration_reg           object\n",
       "migration_within_reg    object\n",
       "live_here_year_ago      object\n",
       "migration_sunbelt       object\n",
       "presence_of_parents     object\n",
       "father_country          object\n",
       "mother_country          object\n",
       "self_country            object\n",
       "own_business             int64\n",
       "vet_benefit              int64\n",
       "weeks_worked             int64\n",
       "year                     int64\n",
       "income                  object\n",
       "dtype: object"
      ]
     },
     "execution_count": 23,
     "metadata": {},
     "output_type": "execute_result"
    }
   ],
   "source": [
    "train.dtypes"
   ]
  },
  {
   "cell_type": "markdown",
   "id": "0e27ab7e-8ba0-4e6f-b613-752f0252e926",
   "metadata": {},
   "source": [
    "We notice that some categorical variables like `own_business`, `vet_benefit`, and `year` are wrongly coded as integers, so we start by changing those to type:category. Next, we convert all object types to category. This step ensures that our data types are consistent and ready for modeling later."
   ]
  },
  {
   "cell_type": "code",
   "execution_count": 24,
   "id": "199d40e6-6655-4efe-a3a3-d4a52588d289",
   "metadata": {},
   "outputs": [],
   "source": [
    "# columns to convert to category\n",
    "cols_to_category = [\"own_business\", \"vet_benefit\", \"year\"]\n",
    "train[cols_to_category] = train[cols_to_category].astype(\"category\")\n",
    "test[cols_to_category] = test[cols_to_category].astype(\"category\")\n",
    "\n",
    "# convert object datatypes to category\n",
    "train[train.select_dtypes(include=\"object\").columns] = train.select_dtypes(include=\"object\").astype(\"category\")\n",
    "test[test.select_dtypes(include=\"object\").columns] = test.select_dtypes(include=\"object\").astype(\"category\")"
   ]
  },
  {
   "cell_type": "markdown",
   "id": "a2c1cadb-515a-4c37-8d2c-69c1d953b3db",
   "metadata": {},
   "source": [
    "We check the data types again to verify that they are as intended."
   ]
  },
  {
   "cell_type": "code",
   "execution_count": 25,
   "id": "69581996-b5e7-4962-8ee1-16a86b0cd647",
   "metadata": {},
   "outputs": [
    {
     "data": {
      "text/plain": [
       "age                        int64\n",
       "workclass               category\n",
       "education               category\n",
       "wage_ph                    int64\n",
       "marital_status          category\n",
       "maj_ind_code            category\n",
       "maj_occ_code            category\n",
       "race                    category\n",
       "hispanic_origin         category\n",
       "sex                     category\n",
       "union_member            category\n",
       "emp_status              category\n",
       "capgain                    int64\n",
       "caploss                    int64\n",
       "stock_div                  int64\n",
       "tax_filer_status        category\n",
       "household_summary       category\n",
       "migration_msa           category\n",
       "migration_reg           category\n",
       "migration_within_reg    category\n",
       "live_here_year_ago      category\n",
       "migration_sunbelt       category\n",
       "presence_of_parents     category\n",
       "father_country          category\n",
       "mother_country          category\n",
       "self_country            category\n",
       "own_business            category\n",
       "vet_benefit             category\n",
       "weeks_worked               int64\n",
       "year                    category\n",
       "income                  category\n",
       "dtype: object"
      ]
     },
     "execution_count": 25,
     "metadata": {},
     "output_type": "execute_result"
    }
   ],
   "source": [
    "train.dtypes"
   ]
  },
  {
   "cell_type": "markdown",
   "id": "6f759219-ab60-476f-9c12-edcad9d59ae2",
   "metadata": {
    "tags": []
   },
   "source": [
    "## Feature Engineering\n",
    "\n",
    "Feature engineering plays a crucial role in our project by transforming and creating new features from the existing dataset. These engineered features aim to capture important patterns and relationships that can improve the accuracy and interpretability of our models for income classification."
   ]
  },
  {
   "cell_type": "markdown",
   "id": "6ca6aea3-d39f-410f-962c-ee7645e06e21",
   "metadata": {},
   "source": [
    "#### Investment Income\n",
    "\n",
    "To capture the overall impact of investments, we perform feature engineering by combining the variables `capgain`, `caploss`, and `stock_div`. By creating a new variable `investment_income = capgain - caploss + stock_div`, we consolidate the information related to investments into a single feature. This simplifies the dataset and removes the need to consider the individual variables separately. Consequently, we can enhance the predictive power of our models by incorporating this aggregated feature while discarding the original columns."
   ]
  },
  {
   "cell_type": "code",
   "execution_count": 26,
   "id": "0bb9327a-c58b-4360-bb5e-dd6ecfe80ba4",
   "metadata": {},
   "outputs": [],
   "source": [
    "# create investment_income in train and test sets\n",
    "train['investment_income'] = train['capgain'] - train['caploss'] + train['stock_div']\n",
    "test['investment_income'] = test['capgain'] - test['caploss'] + test['stock_div']\n",
    "\n",
    "# drop original columns\n",
    "cols_to_drop = ['capgain', 'caploss', 'stock_div']\n",
    "train = train.drop(cols_to_drop, axis=1)\n",
    "test = test.drop(cols_to_drop, axis=1)"
   ]
  },
  {
   "cell_type": "markdown",
   "id": "ec704921-0870-4268-b7fd-836d87d2fca2",
   "metadata": {},
   "source": [
    "#### Mapping Categorical Variables\n",
    "\n",
    "In order to simplify the analysis of categorical variables, we perform a mapping step to reduce the number of distinct categories. By grouping certain categories together, we aim to create more meaningful and concise representations of the data. This mapping process allows us to transform the original categorical variables into a reduced set of categories, providing a clearer understanding of their impact on the target variable. Through this mapping, we can effectively capture the essential information from the categorical variables while maintaining interpretability in our analysis."
   ]
  },
  {
   "cell_type": "code",
   "execution_count": 28,
   "id": "a69643a5-7f4a-45ef-9eea-88d17d624453",
   "metadata": {},
   "outputs": [],
   "source": [
    "# The 'train' and 'test' datasets are updated using the pipe method to apply the mapping functions sequentially.\n",
    "\n",
    "train = (\n",
    "    train.pipe(map_workclass)\n",
    "    .pipe(map_education)\n",
    "    .pipe(map_hispanic)\n",
    "    .pipe(map_tax_filer_status)\n",
    "    .pipe(map_household_summary)\n",
    "    .pipe(map_father_country)\n",
    "    .pipe(map_mother_country)\n",
    "    .pipe(map_self_country)\n",
    "    .pipe(map_emp_status)\n",
    ")\n",
    "\n",
    "test = (\n",
    "    test.pipe(map_workclass)\n",
    "    .pipe(map_education)\n",
    "    .pipe(map_hispanic)\n",
    "    .pipe(map_tax_filer_status)\n",
    "    .pipe(map_household_summary)\n",
    "    .pipe(map_father_country)\n",
    "    .pipe(map_mother_country)\n",
    "    .pipe(map_self_country)\n",
    "    .pipe(map_emp_status)\n",
    ")"
   ]
  },
  {
   "cell_type": "code",
   "execution_count": 29,
   "id": "a300c3a6-c771-404d-af62-ae83020c1572",
   "metadata": {},
   "outputs": [
    {
     "name": "stdout",
     "output_type": "stream",
     "text": [
      "Train shape: (199523, 29)\n",
      "Test shape: (99762, 29)\n"
     ]
    }
   ],
   "source": [
    "print(\"Train shape:\", train.shape)\n",
    "print(\"Test shape:\", test.shape)"
   ]
  },
  {
   "cell_type": "markdown",
   "id": "71e9d4c9-1880-43fe-b546-faa2d2280463",
   "metadata": {},
   "source": [
    "### EDA: Counts of target classes\n",
    "\n",
    "We check for class balance in the target variable `income`."
   ]
  },
  {
   "cell_type": "code",
   "execution_count": 32,
   "id": "2050fff8-3d35-41cc-bd50-e5a0d870868f",
   "metadata": {},
   "outputs": [
    {
     "data": {
      "image/png": "[encoded data removed]",
      "text/plain": [
       "<Figure size 640x480 with 1 Axes>"
      ]
     },
     "metadata": {},
     "output_type": "display_data"
    }
   ],
   "source": [
    "# create counts of target classes\n",
    "income_counts = train['income'].value_counts()\n",
    "\n",
    "# plot target class counts\n",
    "plt.bar(income_counts.index, income_counts.values)\n",
    "plt.xlabel('Income')\n",
    "plt.ylabel('Count')\n",
    "plt.title('Counts of Income in Train Dataset')\n",
    "plt.show()"
   ]
  },
  {
   "cell_type": "markdown",
   "id": "c142256c-25f5-4fb7-9320-a5e9fbb5fd29",
   "metadata": {},
   "source": [
    "### Filtering Rows in Train Set\n",
    "\n",
    "The plot above shows that the target class is highly imbalanced. We can take some preliminary steps to address this concern now in the train set."
   ]
  },
  {
   "cell_type": "markdown",
   "id": "beae79bd-3e93-4961-a23b-261b8ce03888",
   "metadata": {},
   "source": [
    "#### Dropping Duplicates\n",
    "\n",
    "We address the issue of duplicate records in our dataset. Duplicate records can introduce bias and affect the integrity of our analysis. Therefore, it is important to identify and remove these duplicates before proceeding with further data processing. This ensures that our analysis is based on unique and representative observations. Most of the duplicate records belong to the majority target class, so this step helps address imbalance."
   ]
  },
  {
   "cell_type": "markdown",
   "id": "98d83ece-1a6c-4966-9c70-e9b961d566c0",
   "metadata": {},
   "source": [
    "#### Dropping Children (age<15)\n",
    "\n",
    "During the exploratory data analysis (separate R file in directory), we learned that children (persons under 15 years of age) do not work. Thus, they cannot earn an income. We drop them all because "
   ]
  },
  {
   "cell_type": "code",
   "execution_count": 17,
   "id": "2dda230e-469b-431a-a052-dd1e289042ab",
   "metadata": {},
   "outputs": [
    {
     "name": "stdout",
     "output_type": "stream",
     "text": [
      "Train shape: (129047, 29)\n",
      "Test shape: (99762, 29)\n"
     ]
    }
   ],
   "source": [
    "print(\"Train shape:\", train.shape)\n",
    "print(\"Test shape:\", test.shape)"
   ]
  },
  {
   "cell_type": "code",
   "execution_count": 18,
   "id": "d072636f-ff96-490a-83fa-9196b44d57f0",
   "metadata": {},
   "outputs": [],
   "source": [
    "category_cols = train.select_dtypes(\"category\").columns\n",
    "int_cols = train.select_dtypes(\"int64\").columns"
   ]
  },
  {
   "cell_type": "code",
   "execution_count": 19,
   "id": "ba733319-b027-496a-9719-6a03011c3c7a",
   "metadata": {},
   "outputs": [
    {
     "data": {
      "text/plain": [
       "Index(['age', 'wage_ph', 'weeks_worked', 'investment_income'], dtype='object')"
      ]
     },
     "execution_count": 19,
     "metadata": {},
     "output_type": "execute_result"
    }
   ],
   "source": [
    "int_cols"
   ]
  },
  {
   "cell_type": "markdown",
   "id": "1b102fd2-6f6e-4724-b94a-23373f455fae",
   "metadata": {},
   "source": [
    "#### Train-test split"
   ]
  },
  {
   "cell_type": "code",
   "execution_count": 20,
   "id": "f69f6988-da04-4395-bb88-957253916b67",
   "metadata": {},
   "outputs": [],
   "source": [
    "X_train = train.drop(['income'],axis=1)\n",
    "y_train = train['income']\n",
    "X_test = test.drop(['income'],axis=1)\n",
    "y_test = test['income']"
   ]
  },
  {
   "cell_type": "code",
   "execution_count": 21,
   "id": "b11e3bfc-3af9-4c96-9a59-360310efb324",
   "metadata": {},
   "outputs": [
    {
     "data": {
      "text/plain": [
       "(129047, 28)"
      ]
     },
     "execution_count": 21,
     "metadata": {},
     "output_type": "execute_result"
    }
   ],
   "source": [
    "X_train.shape"
   ]
  },
  {
   "cell_type": "code",
   "execution_count": 22,
   "id": "4a3a0225-57ba-40c4-8742-1d8b586de87f",
   "metadata": {},
   "outputs": [
    {
     "data": {
      "text/plain": [
       "(99762, 28)"
      ]
     },
     "execution_count": 22,
     "metadata": {},
     "output_type": "execute_result"
    }
   ],
   "source": [
    "X_test.shape"
   ]
  },
  {
   "cell_type": "markdown",
   "id": "ecff27ac-0c9b-4b91-916b-2216e58625fc",
   "metadata": {
    "tags": []
   },
   "source": [
    "#### Create dummies"
   ]
  },
  {
   "cell_type": "code",
   "execution_count": 23,
   "id": "bc49a9a7-436d-4d54-9072-376db2789db3",
   "metadata": {},
   "outputs": [
    {
     "name": "stdout",
     "output_type": "stream",
     "text": [
      "Train shape: (129047, 119)\n",
      "Test shape: (99762, 119)\n"
     ]
    }
   ],
   "source": [
    "# Combine train and test sets\n",
    "X_combined = pd.concat([X_train, X_test])\n",
    "\n",
    "# Perform dummy encoding on the combined dataset\n",
    "X_combined_dm = pd.get_dummies(X_combined, drop_first=True)\n",
    "\n",
    "# Step 4: Split the combined dataset back into train and test sets\n",
    "X_train_dm = X_combined_dm[:len(X_train)]\n",
    "X_test_dm = X_combined_dm[len(X_train):]\n",
    "\n",
    "# Check the shapes of train and test sets\n",
    "print(\"Train shape:\", X_train_dm.shape)\n",
    "print(\"Test shape:\", X_test_dm.shape)\n",
    "\n",
    "#X_train = pd.get_dummies(X_train)\n",
    "#X_test = pd.get_dummies(X_test)"
   ]
  },
  {
   "cell_type": "code",
   "execution_count": 24,
   "id": "712ea64a-4d5b-4966-9976-4c2777977826",
   "metadata": {},
   "outputs": [
    {
     "data": {
      "text/html": [
       "<div>\n",
       "<style scoped>\n",
       "    .dataframe tbody tr th:only-of-type {\n",
       "        vertical-align: middle;\n",
       "    }\n",
       "\n",
       "    .dataframe tbody tr th {\n",
       "        vertical-align: top;\n",
       "    }\n",
       "\n",
       "    .dataframe thead th {\n",
       "        text-align: right;\n",
       "    }\n",
       "</style>\n",
       "<table border=\"1\" class=\"dataframe\">\n",
       "  <thead>\n",
       "    <tr style=\"text-align: right;\">\n",
       "      <th></th>\n",
       "      <th>age</th>\n",
       "      <th>wage_ph</th>\n",
       "      <th>weeks_worked</th>\n",
       "      <th>investment_income</th>\n",
       "      <th>workclass_Never worked</th>\n",
       "      <th>workclass_Other</th>\n",
       "      <th>workclass_Private</th>\n",
       "      <th>workclass_Self-employed</th>\n",
       "      <th>education_HSD and some college</th>\n",
       "      <th>education_No high school diploma</th>\n",
       "      <th>...</th>\n",
       "      <th>father_country_United States</th>\n",
       "      <th>mother_country_Other</th>\n",
       "      <th>mother_country_United States</th>\n",
       "      <th>self_country_Other</th>\n",
       "      <th>self_country_United States</th>\n",
       "      <th>own_business_1</th>\n",
       "      <th>own_business_2</th>\n",
       "      <th>vet_benefit_1</th>\n",
       "      <th>vet_benefit_2</th>\n",
       "      <th>year_95</th>\n",
       "    </tr>\n",
       "  </thead>\n",
       "  <tbody>\n",
       "    <tr>\n",
       "      <th>0</th>\n",
       "      <td>73</td>\n",
       "      <td>0</td>\n",
       "      <td>0</td>\n",
       "      <td>0</td>\n",
       "      <td>0</td>\n",
       "      <td>1</td>\n",
       "      <td>0</td>\n",
       "      <td>0</td>\n",
       "      <td>1</td>\n",
       "      <td>0</td>\n",
       "      <td>...</td>\n",
       "      <td>1</td>\n",
       "      <td>0</td>\n",
       "      <td>1</td>\n",
       "      <td>0</td>\n",
       "      <td>1</td>\n",
       "      <td>0</td>\n",
       "      <td>0</td>\n",
       "      <td>0</td>\n",
       "      <td>1</td>\n",
       "      <td>1</td>\n",
       "    </tr>\n",
       "    <tr>\n",
       "      <th>1</th>\n",
       "      <td>58</td>\n",
       "      <td>0</td>\n",
       "      <td>52</td>\n",
       "      <td>0</td>\n",
       "      <td>0</td>\n",
       "      <td>0</td>\n",
       "      <td>0</td>\n",
       "      <td>1</td>\n",
       "      <td>1</td>\n",
       "      <td>0</td>\n",
       "      <td>...</td>\n",
       "      <td>1</td>\n",
       "      <td>0</td>\n",
       "      <td>1</td>\n",
       "      <td>0</td>\n",
       "      <td>1</td>\n",
       "      <td>0</td>\n",
       "      <td>0</td>\n",
       "      <td>0</td>\n",
       "      <td>1</td>\n",
       "      <td>0</td>\n",
       "    </tr>\n",
       "    <tr>\n",
       "      <th>2</th>\n",
       "      <td>18</td>\n",
       "      <td>0</td>\n",
       "      <td>0</td>\n",
       "      <td>0</td>\n",
       "      <td>0</td>\n",
       "      <td>1</td>\n",
       "      <td>0</td>\n",
       "      <td>0</td>\n",
       "      <td>0</td>\n",
       "      <td>1</td>\n",
       "      <td>...</td>\n",
       "      <td>0</td>\n",
       "      <td>1</td>\n",
       "      <td>0</td>\n",
       "      <td>1</td>\n",
       "      <td>0</td>\n",
       "      <td>0</td>\n",
       "      <td>0</td>\n",
       "      <td>0</td>\n",
       "      <td>1</td>\n",
       "      <td>1</td>\n",
       "    </tr>\n",
       "    <tr>\n",
       "      <th>5</th>\n",
       "      <td>48</td>\n",
       "      <td>1200</td>\n",
       "      <td>52</td>\n",
       "      <td>0</td>\n",
       "      <td>0</td>\n",
       "      <td>0</td>\n",
       "      <td>1</td>\n",
       "      <td>0</td>\n",
       "      <td>1</td>\n",
       "      <td>0</td>\n",
       "      <td>...</td>\n",
       "      <td>0</td>\n",
       "      <td>0</td>\n",
       "      <td>1</td>\n",
       "      <td>0</td>\n",
       "      <td>1</td>\n",
       "      <td>0</td>\n",
       "      <td>1</td>\n",
       "      <td>0</td>\n",
       "      <td>1</td>\n",
       "      <td>1</td>\n",
       "    </tr>\n",
       "    <tr>\n",
       "      <th>6</th>\n",
       "      <td>42</td>\n",
       "      <td>0</td>\n",
       "      <td>52</td>\n",
       "      <td>5178</td>\n",
       "      <td>0</td>\n",
       "      <td>0</td>\n",
       "      <td>1</td>\n",
       "      <td>0</td>\n",
       "      <td>0</td>\n",
       "      <td>0</td>\n",
       "      <td>...</td>\n",
       "      <td>1</td>\n",
       "      <td>0</td>\n",
       "      <td>1</td>\n",
       "      <td>0</td>\n",
       "      <td>1</td>\n",
       "      <td>0</td>\n",
       "      <td>0</td>\n",
       "      <td>0</td>\n",
       "      <td>1</td>\n",
       "      <td>0</td>\n",
       "    </tr>\n",
       "  </tbody>\n",
       "</table>\n",
       "<p>5 rows × 119 columns</p>\n",
       "</div>"
      ],
      "text/plain": [
       "   age  wage_ph  weeks_worked  investment_income  workclass_Never worked  \\\n",
       "0   73        0             0                  0                       0   \n",
       "1   58        0            52                  0                       0   \n",
       "2   18        0             0                  0                       0   \n",
       "5   48     1200            52                  0                       0   \n",
       "6   42        0            52               5178                       0   \n",
       "\n",
       "   workclass_Other  workclass_Private  workclass_Self-employed  \\\n",
       "0                1                  0                        0   \n",
       "1                0                  0                        1   \n",
       "2                1                  0                        0   \n",
       "5                0                  1                        0   \n",
       "6                0                  1                        0   \n",
       "\n",
       "   education_HSD and some college  education_No high school diploma  ...  \\\n",
       "0                               1                                 0  ...   \n",
       "1                               1                                 0  ...   \n",
       "2                               0                                 1  ...   \n",
       "5                               1                                 0  ...   \n",
       "6                               0                                 0  ...   \n",
       "\n",
       "   father_country_United States  mother_country_Other  \\\n",
       "0                             1                     0   \n",
       "1                             1                     0   \n",
       "2                             0                     1   \n",
       "5                             0                     0   \n",
       "6                             1                     0   \n",
       "\n",
       "   mother_country_United States  self_country_Other  \\\n",
       "0                             1                   0   \n",
       "1                             1                   0   \n",
       "2                             0                   1   \n",
       "5                             1                   0   \n",
       "6                             1                   0   \n",
       "\n",
       "   self_country_United States  own_business_1  own_business_2  vet_benefit_1  \\\n",
       "0                           1               0               0              0   \n",
       "1                           1               0               0              0   \n",
       "2                           0               0               0              0   \n",
       "5                           1               0               1              0   \n",
       "6                           1               0               0              0   \n",
       "\n",
       "   vet_benefit_2  year_95  \n",
       "0              1        1  \n",
       "1              1        0  \n",
       "2              1        1  \n",
       "5              1        1  \n",
       "6              1        0  \n",
       "\n",
       "[5 rows x 119 columns]"
      ]
     },
     "execution_count": 24,
     "metadata": {},
     "output_type": "execute_result"
    }
   ],
   "source": [
    "X_train_dm.head()"
   ]
  },
  {
   "cell_type": "markdown",
   "id": "5ecd78f6-4a24-48fa-bc86-001ff18a59f3",
   "metadata": {},
   "source": [
    "#### Standardize numeric variables"
   ]
  },
  {
   "cell_type": "code",
   "execution_count": 25,
   "id": "f3cc0ece-c75c-488c-b355-54b89ba4e9d3",
   "metadata": {},
   "outputs": [],
   "source": [
    "scaler = preprocessing.StandardScaler()"
   ]
  },
  {
   "cell_type": "code",
   "execution_count": 26,
   "id": "63504aae-a948-4641-8b57-5c891c03f7e9",
   "metadata": {},
   "outputs": [
    {
     "name": "stderr",
     "output_type": "stream",
     "text": [
      "C:\\Users\\joeje\\AppData\\Local\\Temp\\ipykernel_16844\\114070597.py:1: SettingWithCopyWarning: \n",
      "A value is trying to be set on a copy of a slice from a DataFrame.\n",
      "Try using .loc[row_indexer,col_indexer] = value instead\n",
      "\n",
      "See the caveats in the documentation: https://pandas.pydata.org/pandas-docs/stable/user_guide/indexing.html#returning-a-view-versus-a-copy\n",
      "  X_train_dm[int_cols]=pd.DataFrame(scaler.fit_transform(X_train_dm[int_cols]),columns=int_cols,index=X_train_dm.index)\n",
      "C:\\Users\\joeje\\AppData\\Local\\Temp\\ipykernel_16844\\114070597.py:2: SettingWithCopyWarning: \n",
      "A value is trying to be set on a copy of a slice from a DataFrame.\n",
      "Try using .loc[row_indexer,col_indexer] = value instead\n",
      "\n",
      "See the caveats in the documentation: https://pandas.pydata.org/pandas-docs/stable/user_guide/indexing.html#returning-a-view-versus-a-copy\n",
      "  X_test_dm[int_cols]=pd.DataFrame(scaler.fit_transform(X_test_dm[int_cols]),columns=int_cols,index=X_test_dm.index)\n"
     ]
    }
   ],
   "source": [
    "X_train_dm[int_cols]=pd.DataFrame(scaler.fit_transform(X_train_dm[int_cols]),columns=int_cols,index=X_train_dm.index)\n",
    "X_test_dm[int_cols]=pd.DataFrame(scaler.fit_transform(X_test_dm[int_cols]),columns=int_cols,index=X_test_dm.index)"
   ]
  },
  {
   "cell_type": "code",
   "execution_count": 64,
   "id": "b94339cb-4146-4de5-883a-38e7de936b42",
   "metadata": {},
   "outputs": [
    {
     "data": {
      "text/html": [
       "<div>\n",
       "<style scoped>\n",
       "    .dataframe tbody tr th:only-of-type {\n",
       "        vertical-align: middle;\n",
       "    }\n",
       "\n",
       "    .dataframe tbody tr th {\n",
       "        vertical-align: top;\n",
       "    }\n",
       "\n",
       "    .dataframe thead th {\n",
       "        text-align: right;\n",
       "    }\n",
       "</style>\n",
       "<table border=\"1\" class=\"dataframe\">\n",
       "  <thead>\n",
       "    <tr style=\"text-align: right;\">\n",
       "      <th></th>\n",
       "      <th>age</th>\n",
       "      <th>wage_ph</th>\n",
       "      <th>weeks_worked</th>\n",
       "      <th>investment_income</th>\n",
       "      <th>workclass_Never worked</th>\n",
       "      <th>workclass_Other</th>\n",
       "      <th>workclass_Private</th>\n",
       "      <th>workclass_Self-employed</th>\n",
       "      <th>education_HSD and some college</th>\n",
       "      <th>education_No high school diploma</th>\n",
       "      <th>...</th>\n",
       "      <th>father_country_United States</th>\n",
       "      <th>mother_country_Other</th>\n",
       "      <th>mother_country_United States</th>\n",
       "      <th>self_country_Other</th>\n",
       "      <th>self_country_United States</th>\n",
       "      <th>own_business_1</th>\n",
       "      <th>own_business_2</th>\n",
       "      <th>vet_benefit_1</th>\n",
       "      <th>vet_benefit_2</th>\n",
       "      <th>year_95</th>\n",
       "    </tr>\n",
       "  </thead>\n",
       "  <tbody>\n",
       "    <tr>\n",
       "      <th>0</th>\n",
       "      <td>0.150958</td>\n",
       "      <td>-0.201558</td>\n",
       "      <td>-0.458621</td>\n",
       "      <td>-0.112803</td>\n",
       "      <td>0</td>\n",
       "      <td>0</td>\n",
       "      <td>1</td>\n",
       "      <td>0</td>\n",
       "      <td>0</td>\n",
       "      <td>1</td>\n",
       "      <td>...</td>\n",
       "      <td>0</td>\n",
       "      <td>0</td>\n",
       "      <td>0</td>\n",
       "      <td>0</td>\n",
       "      <td>0</td>\n",
       "      <td>0</td>\n",
       "      <td>0</td>\n",
       "      <td>0</td>\n",
       "      <td>1</td>\n",
       "      <td>1</td>\n",
       "    </tr>\n",
       "    <tr>\n",
       "      <th>1</th>\n",
       "      <td>0.419615</td>\n",
       "      <td>-0.201558</td>\n",
       "      <td>0.115407</td>\n",
       "      <td>0.371443</td>\n",
       "      <td>0</td>\n",
       "      <td>0</td>\n",
       "      <td>0</td>\n",
       "      <td>1</td>\n",
       "      <td>1</td>\n",
       "      <td>0</td>\n",
       "      <td>...</td>\n",
       "      <td>1</td>\n",
       "      <td>0</td>\n",
       "      <td>1</td>\n",
       "      <td>0</td>\n",
       "      <td>1</td>\n",
       "      <td>0</td>\n",
       "      <td>0</td>\n",
       "      <td>0</td>\n",
       "      <td>1</td>\n",
       "      <td>1</td>\n",
       "    </tr>\n",
       "    <tr>\n",
       "      <th>2</th>\n",
       "      <td>-1.460982</td>\n",
       "      <td>-0.201558</td>\n",
       "      <td>-0.950645</td>\n",
       "      <td>-0.112803</td>\n",
       "      <td>0</td>\n",
       "      <td>1</td>\n",
       "      <td>0</td>\n",
       "      <td>0</td>\n",
       "      <td>0</td>\n",
       "      <td>1</td>\n",
       "      <td>...</td>\n",
       "      <td>1</td>\n",
       "      <td>0</td>\n",
       "      <td>1</td>\n",
       "      <td>0</td>\n",
       "      <td>1</td>\n",
       "      <td>0</td>\n",
       "      <td>0</td>\n",
       "      <td>0</td>\n",
       "      <td>0</td>\n",
       "      <td>1</td>\n",
       "    </tr>\n",
       "    <tr>\n",
       "      <th>3</th>\n",
       "      <td>0.016630</td>\n",
       "      <td>-0.201558</td>\n",
       "      <td>1.181459</td>\n",
       "      <td>-0.112803</td>\n",
       "      <td>0</td>\n",
       "      <td>0</td>\n",
       "      <td>1</td>\n",
       "      <td>0</td>\n",
       "      <td>1</td>\n",
       "      <td>0</td>\n",
       "      <td>...</td>\n",
       "      <td>1</td>\n",
       "      <td>0</td>\n",
       "      <td>1</td>\n",
       "      <td>0</td>\n",
       "      <td>1</td>\n",
       "      <td>0</td>\n",
       "      <td>1</td>\n",
       "      <td>0</td>\n",
       "      <td>1</td>\n",
       "      <td>0</td>\n",
       "    </tr>\n",
       "    <tr>\n",
       "      <th>4</th>\n",
       "      <td>0.643496</td>\n",
       "      <td>-0.201558</td>\n",
       "      <td>1.099455</td>\n",
       "      <td>-0.112803</td>\n",
       "      <td>0</td>\n",
       "      <td>0</td>\n",
       "      <td>1</td>\n",
       "      <td>0</td>\n",
       "      <td>1</td>\n",
       "      <td>0</td>\n",
       "      <td>...</td>\n",
       "      <td>1</td>\n",
       "      <td>0</td>\n",
       "      <td>1</td>\n",
       "      <td>0</td>\n",
       "      <td>1</td>\n",
       "      <td>0</td>\n",
       "      <td>0</td>\n",
       "      <td>0</td>\n",
       "      <td>1</td>\n",
       "      <td>1</td>\n",
       "    </tr>\n",
       "  </tbody>\n",
       "</table>\n",
       "<p>5 rows × 119 columns</p>\n",
       "</div>"
      ],
      "text/plain": [
       "        age   wage_ph  weeks_worked  investment_income  \\\n",
       "0  0.150958 -0.201558     -0.458621          -0.112803   \n",
       "1  0.419615 -0.201558      0.115407           0.371443   \n",
       "2 -1.460982 -0.201558     -0.950645          -0.112803   \n",
       "3  0.016630 -0.201558      1.181459          -0.112803   \n",
       "4  0.643496 -0.201558      1.099455          -0.112803   \n",
       "\n",
       "   workclass_Never worked  workclass_Other  workclass_Private  \\\n",
       "0                       0                0                  1   \n",
       "1                       0                0                  0   \n",
       "2                       0                1                  0   \n",
       "3                       0                0                  1   \n",
       "4                       0                0                  1   \n",
       "\n",
       "   workclass_Self-employed  education_HSD and some college  \\\n",
       "0                        0                               0   \n",
       "1                        1                               1   \n",
       "2                        0                               0   \n",
       "3                        0                               1   \n",
       "4                        0                               1   \n",
       "\n",
       "   education_No high school diploma  ...  father_country_United States  \\\n",
       "0                                 1  ...                             0   \n",
       "1                                 0  ...                             1   \n",
       "2                                 1  ...                             1   \n",
       "3                                 0  ...                             1   \n",
       "4                                 0  ...                             1   \n",
       "\n",
       "   mother_country_Other  mother_country_United States  self_country_Other  \\\n",
       "0                     0                             0                   0   \n",
       "1                     0                             1                   0   \n",
       "2                     0                             1                   0   \n",
       "3                     0                             1                   0   \n",
       "4                     0                             1                   0   \n",
       "\n",
       "   self_country_United States  own_business_1  own_business_2  vet_benefit_1  \\\n",
       "0                           0               0               0              0   \n",
       "1                           1               0               0              0   \n",
       "2                           1               0               0              0   \n",
       "3                           1               0               1              0   \n",
       "4                           1               0               0              0   \n",
       "\n",
       "   vet_benefit_2  year_95  \n",
       "0              1        1  \n",
       "1              1        1  \n",
       "2              0        1  \n",
       "3              1        0  \n",
       "4              1        1  \n",
       "\n",
       "[5 rows x 119 columns]"
      ]
     },
     "execution_count": 64,
     "metadata": {},
     "output_type": "execute_result"
    }
   ],
   "source": [
    "X_test_dm.head()"
   ]
  },
  {
   "cell_type": "code",
   "execution_count": 28,
   "id": "2ed03f08-7302-4953-81ae-8e6573080498",
   "metadata": {},
   "outputs": [
    {
     "data": {
      "text/plain": [
       "(99762, 119)"
      ]
     },
     "execution_count": 28,
     "metadata": {},
     "output_type": "execute_result"
    }
   ],
   "source": [
    "X_test_dm.shape"
   ]
  },
  {
   "cell_type": "markdown",
   "id": "fb3b6edd-091c-44f4-84c3-4f7028035e95",
   "metadata": {},
   "source": [
    "## Logistic Regression"
   ]
  },
  {
   "cell_type": "code",
   "execution_count": 60,
   "id": "079c0088-ce7b-45f9-aaac-146d6dd72433",
   "metadata": {},
   "outputs": [],
   "source": [
    "model = LogisticRegression(solver='liblinear', random_state=56)"
   ]
  },
  {
   "cell_type": "code",
   "execution_count": 61,
   "id": "c55ca272-7bdf-41c1-96ce-2baa05744bc2",
   "metadata": {},
   "outputs": [
    {
     "data": {
      "text/html": [
       "<style>#sk-container-id-4 {color: black;background-color: white;}#sk-container-id-4 pre{padding: 0;}#sk-container-id-4 div.sk-toggleable {background-color: white;}#sk-container-id-4 label.sk-toggleable__label {cursor: pointer;display: block;width: 100%;margin-bottom: 0;padding: 0.3em;box-sizing: border-box;text-align: center;}#sk-container-id-4 label.sk-toggleable__label-arrow:before {content: \"▸\";float: left;margin-right: 0.25em;color: #696969;}#sk-container-id-4 label.sk-toggleable__label-arrow:hover:before {color: black;}#sk-container-id-4 div.sk-estimator:hover label.sk-toggleable__label-arrow:before {color: black;}#sk-container-id-4 div.sk-toggleable__content {max-height: 0;max-width: 0;overflow: hidden;text-align: left;background-color: #f0f8ff;}#sk-container-id-4 div.sk-toggleable__content pre {margin: 0.2em;color: black;border-radius: 0.25em;background-color: #f0f8ff;}#sk-container-id-4 input.sk-toggleable__control:checked~div.sk-toggleable__content {max-height: 200px;max-width: 100%;overflow: auto;}#sk-container-id-4 input.sk-toggleable__control:checked~label.sk-toggleable__label-arrow:before {content: \"▾\";}#sk-container-id-4 div.sk-estimator input.sk-toggleable__control:checked~label.sk-toggleable__label {background-color: #d4ebff;}#sk-container-id-4 div.sk-label input.sk-toggleable__control:checked~label.sk-toggleable__label {background-color: #d4ebff;}#sk-container-id-4 input.sk-hidden--visually {border: 0;clip: rect(1px 1px 1px 1px);clip: rect(1px, 1px, 1px, 1px);height: 1px;margin: -1px;overflow: hidden;padding: 0;position: absolute;width: 1px;}#sk-container-id-4 div.sk-estimator {font-family: monospace;background-color: #f0f8ff;border: 1px dotted black;border-radius: 0.25em;box-sizing: border-box;margin-bottom: 0.5em;}#sk-container-id-4 div.sk-estimator:hover {background-color: #d4ebff;}#sk-container-id-4 div.sk-parallel-item::after {content: \"\";width: 100%;border-bottom: 1px solid gray;flex-grow: 1;}#sk-container-id-4 div.sk-label:hover label.sk-toggleable__label {background-color: #d4ebff;}#sk-container-id-4 div.sk-serial::before {content: \"\";position: absolute;border-left: 1px solid gray;box-sizing: border-box;top: 0;bottom: 0;left: 50%;z-index: 0;}#sk-container-id-4 div.sk-serial {display: flex;flex-direction: column;align-items: center;background-color: white;padding-right: 0.2em;padding-left: 0.2em;position: relative;}#sk-container-id-4 div.sk-item {position: relative;z-index: 1;}#sk-container-id-4 div.sk-parallel {display: flex;align-items: stretch;justify-content: center;background-color: white;position: relative;}#sk-container-id-4 div.sk-item::before, #sk-container-id-4 div.sk-parallel-item::before {content: \"\";position: absolute;border-left: 1px solid gray;box-sizing: border-box;top: 0;bottom: 0;left: 50%;z-index: -1;}#sk-container-id-4 div.sk-parallel-item {display: flex;flex-direction: column;z-index: 1;position: relative;background-color: white;}#sk-container-id-4 div.sk-parallel-item:first-child::after {align-self: flex-end;width: 50%;}#sk-container-id-4 div.sk-parallel-item:last-child::after {align-self: flex-start;width: 50%;}#sk-container-id-4 div.sk-parallel-item:only-child::after {width: 0;}#sk-container-id-4 div.sk-dashed-wrapped {border: 1px dashed gray;margin: 0 0.4em 0.5em 0.4em;box-sizing: border-box;padding-bottom: 0.4em;background-color: white;}#sk-container-id-4 div.sk-label label {font-family: monospace;font-weight: bold;display: inline-block;line-height: 1.2em;}#sk-container-id-4 div.sk-label-container {text-align: center;}#sk-container-id-4 div.sk-container {/* jupyter's `normalize.less` sets `[hidden] { display: none; }` but bootstrap.min.css set `[hidden] { display: none !important; }` so we also need the `!important` here to be able to override the default hidden behavior on the sphinx rendered scikit-learn.org. See: https://github.com/scikit-learn/scikit-learn/issues/21755 */display: inline-block !important;position: relative;}#sk-container-id-4 div.sk-text-repr-fallback {display: none;}</style><div id=\"sk-container-id-4\" class=\"sk-top-container\"><div class=\"sk-text-repr-fallback\"><pre>LogisticRegression(class_weight=&#x27;balanced&#x27;, random_state=56, solver=&#x27;liblinear&#x27;)</pre><b>In a Jupyter environment, please rerun this cell to show the HTML representation or trust the notebook. <br />On GitHub, the HTML representation is unable to render, please try loading this page with nbviewer.org.</b></div><div class=\"sk-container\" hidden><div class=\"sk-item\"><div class=\"sk-estimator sk-toggleable\"><input class=\"sk-toggleable__control sk-hidden--visually\" id=\"sk-estimator-id-6\" type=\"checkbox\" checked><label for=\"sk-estimator-id-6\" class=\"sk-toggleable__label sk-toggleable__label-arrow\">LogisticRegression</label><div class=\"sk-toggleable__content\"><pre>LogisticRegression(class_weight=&#x27;balanced&#x27;, random_state=56, solver=&#x27;liblinear&#x27;)</pre></div></div></div></div></div>"
      ],
      "text/plain": [
       "LogisticRegression(class_weight='balanced', random_state=56, solver='liblinear')"
      ]
     },
     "execution_count": 61,
     "metadata": {},
     "output_type": "execute_result"
    }
   ],
   "source": [
    "model.fit(X_train_dm, y_train)"
   ]
  },
  {
   "cell_type": "code",
   "execution_count": 31,
   "id": "555550b9-b159-42d3-a2ef-123dc7af576e",
   "metadata": {},
   "outputs": [
    {
     "data": {
      "text/plain": [
       "array([' - 50000.', ' 50000+.'], dtype=object)"
      ]
     },
     "execution_count": 31,
     "metadata": {},
     "output_type": "execute_result"
    }
   ],
   "source": [
    "model.classes_"
   ]
  },
  {
   "cell_type": "code",
   "execution_count": 32,
   "id": "3e0195a2-db3f-4de9-b13b-492c10746654",
   "metadata": {},
   "outputs": [
    {
     "data": {
      "text/plain": [
       "array([-1.93116204])"
      ]
     },
     "execution_count": 32,
     "metadata": {},
     "output_type": "execute_result"
    }
   ],
   "source": [
    "model.intercept_"
   ]
  },
  {
   "cell_type": "code",
   "execution_count": 33,
   "id": "847d60b2-154f-45bb-b0c1-d9755130aa7e",
   "metadata": {},
   "outputs": [],
   "source": [
    "# model.coef_"
   ]
  },
  {
   "cell_type": "code",
   "execution_count": 34,
   "id": "85969235-7686-4481-b4b8-2e04423e9474",
   "metadata": {},
   "outputs": [
    {
     "data": {
      "text/plain": [
       "array([' - 50000.', ' - 50000.', ' - 50000.', ..., ' - 50000.',\n",
       "       ' 50000+.', ' - 50000.'], dtype=object)"
      ]
     },
     "execution_count": 34,
     "metadata": {},
     "output_type": "execute_result"
    }
   ],
   "source": [
    "model.predict(X_test_dm)"
   ]
  },
  {
   "cell_type": "code",
   "execution_count": 35,
   "id": "ae5d58d4-773b-4bc2-b4c7-dab57e3a5d2d",
   "metadata": {},
   "outputs": [
    {
     "data": {
      "text/plain": [
       "0.8226779735771135"
      ]
     },
     "execution_count": 35,
     "metadata": {},
     "output_type": "execute_result"
    }
   ],
   "source": [
    "model.score(X_test_dm, y_test)"
   ]
  },
  {
   "cell_type": "code",
   "execution_count": 62,
   "id": "e365d1ef-db3b-419d-8fc9-48f484fe63f5",
   "metadata": {},
   "outputs": [
    {
     "data": {
      "text/plain": [
       "array([[76416, 17160],\n",
       "       [  530,  5656]], dtype=int64)"
      ]
     },
     "execution_count": 62,
     "metadata": {},
     "output_type": "execute_result"
    }
   ],
   "source": [
    "cm = confusion_matrix(y_test, model.predict(X_test_dm))\n",
    "cm"
   ]
  },
  {
   "cell_type": "code",
   "execution_count": 63,
   "id": "890159ae-519f-4944-a6c1-f20fb977f0f1",
   "metadata": {},
   "outputs": [
    {
     "name": "stdout",
     "output_type": "stream",
     "text": [
      "              precision    recall  f1-score   support\n",
      "\n",
      "           0       0.99      0.82      0.90     93576\n",
      "           1       0.25      0.91      0.39      6186\n",
      "\n",
      "    accuracy                           0.82     99762\n",
      "   macro avg       0.62      0.87      0.64     99762\n",
      "weighted avg       0.95      0.82      0.86     99762\n",
      "\n"
     ]
    }
   ],
   "source": [
    "print(classification_report(y_test, model.predict(X_test_dm)))\n"
   ]
  },
  {
   "cell_type": "code",
   "execution_count": 38,
   "id": "19a27c8f-fda1-4488-8d1f-5dc9d1a048a6",
   "metadata": {},
   "outputs": [],
   "source": [
    "stratified_kfold = StratifiedKFold(n_splits=10,shuffle=True,random_state=13)"
   ]
  },
  {
   "cell_type": "code",
   "execution_count": 57,
   "id": "2426ff9c-4f67-48b2-b7c8-2637a1c59cde",
   "metadata": {},
   "outputs": [],
   "source": [
    "parameters = {'penalty' :['l2'], 'C':[0.001, 0.01, 0.1, 1, 10, 100, 1000]}\n",
    "log_gs = GridSearchCV(\n",
    "    LogisticRegression(random_state=32,max_iter=1000),\n",
    "    parameters,\n",
    "    n_jobs=-1,\n",
    "    cv = stratified_kfold,\n",
    "    scoring = \"f1\").fit(X_train_dm, y_train)\n"
   ]
  },
  {
   "cell_type": "code",
   "execution_count": 58,
   "id": "5b4c7c06-e46a-4956-a962-7338c49e5e79",
   "metadata": {},
   "outputs": [
    {
     "name": "stdout",
     "output_type": "stream",
     "text": [
      "best parameter: LogisticRegression(C=100, max_iter=1000, random_state=32)\n",
      "Cross-validation f1 for logistic regression: 0.45720456825881073\n",
      "Test f1 for logistic regression: 0.5374410114860654\n"
     ]
    },
    {
     "data": {
      "text/plain": [
       "array([[91549,  2027],\n",
       "       [ 3168,  3018]], dtype=int64)"
      ]
     },
     "execution_count": 58,
     "metadata": {},
     "output_type": "execute_result"
    }
   ],
   "source": [
    "log_best=log_gs.best_estimator_\n",
    "log_cv_f1 = log_gs.best_score_\n",
    "log_test_f1 = log_gs.score(X_test_dm, y_test)\n",
    "print(f'best parameter: {log_gs.best_estimator_}')\n",
    "print(f'Cross-validation f1 for logistic regression: {log_cv_f1}\\nTest f1 for logistic regression: {log_test_f1}')\n",
    "confusion_matrix(y_test, log_gs.predict(X_test_dm))"
   ]
  },
  {
   "cell_type": "code",
   "execution_count": 73,
   "id": "f54b0e42-2cdb-48f3-a694-410919e55011",
   "metadata": {},
   "outputs": [
    {
     "name": "stdout",
     "output_type": "stream",
     "text": [
      "              precision    recall  f1-score   support\n",
      "\n",
      "           0       0.97      0.98      0.97     93576\n",
      "           1       0.60      0.49      0.54      6186\n",
      "\n",
      "    accuracy                           0.95     99762\n",
      "   macro avg       0.78      0.73      0.75     99762\n",
      "weighted avg       0.94      0.95      0.95     99762\n",
      "\n"
     ]
    }
   ],
   "source": [
    "print(classification_report(y_test, log_gs.predict(X_test_dm)))"
   ]
  },
  {
   "cell_type": "code",
   "execution_count": null,
   "id": "bbf1b1be-2210-4dea-a839-0cac68247109",
   "metadata": {},
   "outputs": [],
   "source": []
  },
  {
   "cell_type": "markdown",
   "id": "e1e16496-0d57-466d-b72b-bfd85105cb10",
   "metadata": {},
   "source": [
    "## Logistic Regression with statsmodel"
   ]
  },
  {
   "cell_type": "code",
   "execution_count": 42,
   "id": "e25c2228-3914-431f-a372-154749fd4f07",
   "metadata": {},
   "outputs": [],
   "source": [
    "# Convert string labels to numeric binary values\n",
    "y_train = y_train.replace({' - 50000.': 0, ' 50000+.': 1})\n",
    "y_test = y_test.replace({' - 50000.': 0, ' 50000+.': 1})"
   ]
  },
  {
   "cell_type": "code",
   "execution_count": 43,
   "id": "e8f2888a-6ae7-4b64-b66e-a92c0e301f7c",
   "metadata": {},
   "outputs": [],
   "source": [
    "model_sm = sm.Logit(np.asarray(y_train), np.asarray(sm.add_constant(X_train_dm)))"
   ]
  },
  {
   "cell_type": "code",
   "execution_count": 44,
   "id": "0f3a5dee-c9d7-49e3-a0ed-e769cdff9251",
   "metadata": {},
   "outputs": [],
   "source": [
    "#result = model_sm.fit(method=\"newton\")"
   ]
  },
  {
   "cell_type": "code",
   "execution_count": 46,
   "id": "6253533e-d47e-4e21-8d75-c84b96573b3b",
   "metadata": {},
   "outputs": [],
   "source": [
    "#results.params"
   ]
  },
  {
   "cell_type": "markdown",
   "id": "cdcd0921-1f0c-4532-b94d-bd6ad7c1717c",
   "metadata": {},
   "source": [
    "## Random Forest Classifier"
   ]
  },
  {
   "cell_type": "code",
   "execution_count": 47,
   "id": "7f383aec-f61a-4bad-bc57-1015ae23e5b7",
   "metadata": {},
   "outputs": [
    {
     "data": {
      "text/html": [
       "<style>#sk-container-id-2 {color: black;background-color: white;}#sk-container-id-2 pre{padding: 0;}#sk-container-id-2 div.sk-toggleable {background-color: white;}#sk-container-id-2 label.sk-toggleable__label {cursor: pointer;display: block;width: 100%;margin-bottom: 0;padding: 0.3em;box-sizing: border-box;text-align: center;}#sk-container-id-2 label.sk-toggleable__label-arrow:before {content: \"▸\";float: left;margin-right: 0.25em;color: #696969;}#sk-container-id-2 label.sk-toggleable__label-arrow:hover:before {color: black;}#sk-container-id-2 div.sk-estimator:hover label.sk-toggleable__label-arrow:before {color: black;}#sk-container-id-2 div.sk-toggleable__content {max-height: 0;max-width: 0;overflow: hidden;text-align: left;background-color: #f0f8ff;}#sk-container-id-2 div.sk-toggleable__content pre {margin: 0.2em;color: black;border-radius: 0.25em;background-color: #f0f8ff;}#sk-container-id-2 input.sk-toggleable__control:checked~div.sk-toggleable__content {max-height: 200px;max-width: 100%;overflow: auto;}#sk-container-id-2 input.sk-toggleable__control:checked~label.sk-toggleable__label-arrow:before {content: \"▾\";}#sk-container-id-2 div.sk-estimator input.sk-toggleable__control:checked~label.sk-toggleable__label {background-color: #d4ebff;}#sk-container-id-2 div.sk-label input.sk-toggleable__control:checked~label.sk-toggleable__label {background-color: #d4ebff;}#sk-container-id-2 input.sk-hidden--visually {border: 0;clip: rect(1px 1px 1px 1px);clip: rect(1px, 1px, 1px, 1px);height: 1px;margin: -1px;overflow: hidden;padding: 0;position: absolute;width: 1px;}#sk-container-id-2 div.sk-estimator {font-family: monospace;background-color: #f0f8ff;border: 1px dotted black;border-radius: 0.25em;box-sizing: border-box;margin-bottom: 0.5em;}#sk-container-id-2 div.sk-estimator:hover {background-color: #d4ebff;}#sk-container-id-2 div.sk-parallel-item::after {content: \"\";width: 100%;border-bottom: 1px solid gray;flex-grow: 1;}#sk-container-id-2 div.sk-label:hover label.sk-toggleable__label {background-color: #d4ebff;}#sk-container-id-2 div.sk-serial::before {content: \"\";position: absolute;border-left: 1px solid gray;box-sizing: border-box;top: 0;bottom: 0;left: 50%;z-index: 0;}#sk-container-id-2 div.sk-serial {display: flex;flex-direction: column;align-items: center;background-color: white;padding-right: 0.2em;padding-left: 0.2em;position: relative;}#sk-container-id-2 div.sk-item {position: relative;z-index: 1;}#sk-container-id-2 div.sk-parallel {display: flex;align-items: stretch;justify-content: center;background-color: white;position: relative;}#sk-container-id-2 div.sk-item::before, #sk-container-id-2 div.sk-parallel-item::before {content: \"\";position: absolute;border-left: 1px solid gray;box-sizing: border-box;top: 0;bottom: 0;left: 50%;z-index: -1;}#sk-container-id-2 div.sk-parallel-item {display: flex;flex-direction: column;z-index: 1;position: relative;background-color: white;}#sk-container-id-2 div.sk-parallel-item:first-child::after {align-self: flex-end;width: 50%;}#sk-container-id-2 div.sk-parallel-item:last-child::after {align-self: flex-start;width: 50%;}#sk-container-id-2 div.sk-parallel-item:only-child::after {width: 0;}#sk-container-id-2 div.sk-dashed-wrapped {border: 1px dashed gray;margin: 0 0.4em 0.5em 0.4em;box-sizing: border-box;padding-bottom: 0.4em;background-color: white;}#sk-container-id-2 div.sk-label label {font-family: monospace;font-weight: bold;display: inline-block;line-height: 1.2em;}#sk-container-id-2 div.sk-label-container {text-align: center;}#sk-container-id-2 div.sk-container {/* jupyter's `normalize.less` sets `[hidden] { display: none; }` but bootstrap.min.css set `[hidden] { display: none !important; }` so we also need the `!important` here to be able to override the default hidden behavior on the sphinx rendered scikit-learn.org. See: https://github.com/scikit-learn/scikit-learn/issues/21755 */display: inline-block !important;position: relative;}#sk-container-id-2 div.sk-text-repr-fallback {display: none;}</style><div id=\"sk-container-id-2\" class=\"sk-top-container\"><div class=\"sk-text-repr-fallback\"><pre>GridSearchCV(cv=StratifiedKFold(n_splits=10, random_state=13, shuffle=True),\n",
       "             estimator=RandomForestClassifier(random_state=13), n_jobs=-1,\n",
       "             param_grid={&#x27;max_depth&#x27;: [10, 15, 20, 25, 30],\n",
       "                         &#x27;n_estimators&#x27;: [40, 45, 50, 55, 60]},\n",
       "             scoring=&#x27;f1&#x27;)</pre><b>In a Jupyter environment, please rerun this cell to show the HTML representation or trust the notebook. <br />On GitHub, the HTML representation is unable to render, please try loading this page with nbviewer.org.</b></div><div class=\"sk-container\" hidden><div class=\"sk-item sk-dashed-wrapped\"><div class=\"sk-label-container\"><div class=\"sk-label sk-toggleable\"><input class=\"sk-toggleable__control sk-hidden--visually\" id=\"sk-estimator-id-2\" type=\"checkbox\" ><label for=\"sk-estimator-id-2\" class=\"sk-toggleable__label sk-toggleable__label-arrow\">GridSearchCV</label><div class=\"sk-toggleable__content\"><pre>GridSearchCV(cv=StratifiedKFold(n_splits=10, random_state=13, shuffle=True),\n",
       "             estimator=RandomForestClassifier(random_state=13), n_jobs=-1,\n",
       "             param_grid={&#x27;max_depth&#x27;: [10, 15, 20, 25, 30],\n",
       "                         &#x27;n_estimators&#x27;: [40, 45, 50, 55, 60]},\n",
       "             scoring=&#x27;f1&#x27;)</pre></div></div></div><div class=\"sk-parallel\"><div class=\"sk-parallel-item\"><div class=\"sk-item\"><div class=\"sk-label-container\"><div class=\"sk-label sk-toggleable\"><input class=\"sk-toggleable__control sk-hidden--visually\" id=\"sk-estimator-id-3\" type=\"checkbox\" ><label for=\"sk-estimator-id-3\" class=\"sk-toggleable__label sk-toggleable__label-arrow\">estimator: RandomForestClassifier</label><div class=\"sk-toggleable__content\"><pre>RandomForestClassifier(random_state=13)</pre></div></div></div><div class=\"sk-serial\"><div class=\"sk-item\"><div class=\"sk-estimator sk-toggleable\"><input class=\"sk-toggleable__control sk-hidden--visually\" id=\"sk-estimator-id-4\" type=\"checkbox\" ><label for=\"sk-estimator-id-4\" class=\"sk-toggleable__label sk-toggleable__label-arrow\">RandomForestClassifier</label><div class=\"sk-toggleable__content\"><pre>RandomForestClassifier(random_state=13)</pre></div></div></div></div></div></div></div></div></div></div>"
      ],
      "text/plain": [
       "GridSearchCV(cv=StratifiedKFold(n_splits=10, random_state=13, shuffle=True),\n",
       "             estimator=RandomForestClassifier(random_state=13), n_jobs=-1,\n",
       "             param_grid={'max_depth': [10, 15, 20, 25, 30],\n",
       "                         'n_estimators': [40, 45, 50, 55, 60]},\n",
       "             scoring='f1')"
      ]
     },
     "execution_count": 47,
     "metadata": {},
     "output_type": "execute_result"
    }
   ],
   "source": [
    "rfEst=RandomForestClassifier(bootstrap=True,max_features='sqrt',random_state=13)\n",
    "rf_grid = {'n_estimators':[40,45,50,55,60],'max_depth': [10,15,20,25,30]}\n",
    "rf_gs = GridSearchCV(\n",
    "    estimator=rfEst,\n",
    "    param_grid=rf_grid,\n",
    "    scoring='f1',\n",
    "    cv=stratified_kfold,\n",
    "    n_jobs=-1)\n",
    "rf_gs.fit(X_train_dm, y_train)\n"
   ]
  },
  {
   "cell_type": "code",
   "execution_count": 49,
   "id": "52ef8619-17b8-4910-9385-2bc884ee6781",
   "metadata": {},
   "outputs": [
    {
     "data": {
      "text/html": [
       "<style>#sk-container-id-3 {color: black;background-color: white;}#sk-container-id-3 pre{padding: 0;}#sk-container-id-3 div.sk-toggleable {background-color: white;}#sk-container-id-3 label.sk-toggleable__label {cursor: pointer;display: block;width: 100%;margin-bottom: 0;padding: 0.3em;box-sizing: border-box;text-align: center;}#sk-container-id-3 label.sk-toggleable__label-arrow:before {content: \"▸\";float: left;margin-right: 0.25em;color: #696969;}#sk-container-id-3 label.sk-toggleable__label-arrow:hover:before {color: black;}#sk-container-id-3 div.sk-estimator:hover label.sk-toggleable__label-arrow:before {color: black;}#sk-container-id-3 div.sk-toggleable__content {max-height: 0;max-width: 0;overflow: hidden;text-align: left;background-color: #f0f8ff;}#sk-container-id-3 div.sk-toggleable__content pre {margin: 0.2em;color: black;border-radius: 0.25em;background-color: #f0f8ff;}#sk-container-id-3 input.sk-toggleable__control:checked~div.sk-toggleable__content {max-height: 200px;max-width: 100%;overflow: auto;}#sk-container-id-3 input.sk-toggleable__control:checked~label.sk-toggleable__label-arrow:before {content: \"▾\";}#sk-container-id-3 div.sk-estimator input.sk-toggleable__control:checked~label.sk-toggleable__label {background-color: #d4ebff;}#sk-container-id-3 div.sk-label input.sk-toggleable__control:checked~label.sk-toggleable__label {background-color: #d4ebff;}#sk-container-id-3 input.sk-hidden--visually {border: 0;clip: rect(1px 1px 1px 1px);clip: rect(1px, 1px, 1px, 1px);height: 1px;margin: -1px;overflow: hidden;padding: 0;position: absolute;width: 1px;}#sk-container-id-3 div.sk-estimator {font-family: monospace;background-color: #f0f8ff;border: 1px dotted black;border-radius: 0.25em;box-sizing: border-box;margin-bottom: 0.5em;}#sk-container-id-3 div.sk-estimator:hover {background-color: #d4ebff;}#sk-container-id-3 div.sk-parallel-item::after {content: \"\";width: 100%;border-bottom: 1px solid gray;flex-grow: 1;}#sk-container-id-3 div.sk-label:hover label.sk-toggleable__label {background-color: #d4ebff;}#sk-container-id-3 div.sk-serial::before {content: \"\";position: absolute;border-left: 1px solid gray;box-sizing: border-box;top: 0;bottom: 0;left: 50%;z-index: 0;}#sk-container-id-3 div.sk-serial {display: flex;flex-direction: column;align-items: center;background-color: white;padding-right: 0.2em;padding-left: 0.2em;position: relative;}#sk-container-id-3 div.sk-item {position: relative;z-index: 1;}#sk-container-id-3 div.sk-parallel {display: flex;align-items: stretch;justify-content: center;background-color: white;position: relative;}#sk-container-id-3 div.sk-item::before, #sk-container-id-3 div.sk-parallel-item::before {content: \"\";position: absolute;border-left: 1px solid gray;box-sizing: border-box;top: 0;bottom: 0;left: 50%;z-index: -1;}#sk-container-id-3 div.sk-parallel-item {display: flex;flex-direction: column;z-index: 1;position: relative;background-color: white;}#sk-container-id-3 div.sk-parallel-item:first-child::after {align-self: flex-end;width: 50%;}#sk-container-id-3 div.sk-parallel-item:last-child::after {align-self: flex-start;width: 50%;}#sk-container-id-3 div.sk-parallel-item:only-child::after {width: 0;}#sk-container-id-3 div.sk-dashed-wrapped {border: 1px dashed gray;margin: 0 0.4em 0.5em 0.4em;box-sizing: border-box;padding-bottom: 0.4em;background-color: white;}#sk-container-id-3 div.sk-label label {font-family: monospace;font-weight: bold;display: inline-block;line-height: 1.2em;}#sk-container-id-3 div.sk-label-container {text-align: center;}#sk-container-id-3 div.sk-container {/* jupyter's `normalize.less` sets `[hidden] { display: none; }` but bootstrap.min.css set `[hidden] { display: none !important; }` so we also need the `!important` here to be able to override the default hidden behavior on the sphinx rendered scikit-learn.org. See: https://github.com/scikit-learn/scikit-learn/issues/21755 */display: inline-block !important;position: relative;}#sk-container-id-3 div.sk-text-repr-fallback {display: none;}</style><div id=\"sk-container-id-3\" class=\"sk-top-container\"><div class=\"sk-text-repr-fallback\"><pre>RandomForestClassifier(max_depth=30, n_estimators=45, random_state=13)</pre><b>In a Jupyter environment, please rerun this cell to show the HTML representation or trust the notebook. <br />On GitHub, the HTML representation is unable to render, please try loading this page with nbviewer.org.</b></div><div class=\"sk-container\" hidden><div class=\"sk-item\"><div class=\"sk-estimator sk-toggleable\"><input class=\"sk-toggleable__control sk-hidden--visually\" id=\"sk-estimator-id-5\" type=\"checkbox\" checked><label for=\"sk-estimator-id-5\" class=\"sk-toggleable__label sk-toggleable__label-arrow\">RandomForestClassifier</label><div class=\"sk-toggleable__content\"><pre>RandomForestClassifier(max_depth=30, n_estimators=45, random_state=13)</pre></div></div></div></div></div>"
      ],
      "text/plain": [
       "RandomForestClassifier(max_depth=30, n_estimators=45, random_state=13)"
      ]
     },
     "execution_count": 49,
     "metadata": {},
     "output_type": "execute_result"
    }
   ],
   "source": [
    "rf_best=rf_gs.best_estimator_\n",
    "rf_best"
   ]
  },
  {
   "cell_type": "code",
   "execution_count": 54,
   "id": "c051f915-5489-4227-b82b-6341f6bd9803",
   "metadata": {},
   "outputs": [
    {
     "data": {
      "text/html": [
       "<div>\n",
       "<style scoped>\n",
       "    .dataframe tbody tr th:only-of-type {\n",
       "        vertical-align: middle;\n",
       "    }\n",
       "\n",
       "    .dataframe tbody tr th {\n",
       "        vertical-align: top;\n",
       "    }\n",
       "\n",
       "    .dataframe thead th {\n",
       "        text-align: right;\n",
       "    }\n",
       "</style>\n",
       "<table border=\"1\" class=\"dataframe\">\n",
       "  <thead>\n",
       "    <tr style=\"text-align: right;\">\n",
       "      <th></th>\n",
       "      <th>age</th>\n",
       "      <th>wage_ph</th>\n",
       "      <th>weeks_worked</th>\n",
       "      <th>investment_income</th>\n",
       "      <th>workclass_Never worked</th>\n",
       "      <th>workclass_Other</th>\n",
       "      <th>workclass_Private</th>\n",
       "      <th>workclass_Self-employed</th>\n",
       "      <th>education_HSD and some college</th>\n",
       "      <th>education_No high school diploma</th>\n",
       "      <th>...</th>\n",
       "      <th>father_country_United States</th>\n",
       "      <th>mother_country_Other</th>\n",
       "      <th>mother_country_United States</th>\n",
       "      <th>self_country_Other</th>\n",
       "      <th>self_country_United States</th>\n",
       "      <th>own_business_1</th>\n",
       "      <th>own_business_2</th>\n",
       "      <th>vet_benefit_1</th>\n",
       "      <th>vet_benefit_2</th>\n",
       "      <th>year_95</th>\n",
       "    </tr>\n",
       "  </thead>\n",
       "  <tbody>\n",
       "    <tr>\n",
       "      <th>0</th>\n",
       "      <td>0.150958</td>\n",
       "      <td>-0.201558</td>\n",
       "      <td>-0.458621</td>\n",
       "      <td>-0.112803</td>\n",
       "      <td>0</td>\n",
       "      <td>0</td>\n",
       "      <td>1</td>\n",
       "      <td>0</td>\n",
       "      <td>0</td>\n",
       "      <td>1</td>\n",
       "      <td>...</td>\n",
       "      <td>0</td>\n",
       "      <td>0</td>\n",
       "      <td>0</td>\n",
       "      <td>0</td>\n",
       "      <td>0</td>\n",
       "      <td>0</td>\n",
       "      <td>0</td>\n",
       "      <td>0</td>\n",
       "      <td>1</td>\n",
       "      <td>1</td>\n",
       "    </tr>\n",
       "    <tr>\n",
       "      <th>1</th>\n",
       "      <td>0.419615</td>\n",
       "      <td>-0.201558</td>\n",
       "      <td>0.115407</td>\n",
       "      <td>0.371443</td>\n",
       "      <td>0</td>\n",
       "      <td>0</td>\n",
       "      <td>0</td>\n",
       "      <td>1</td>\n",
       "      <td>1</td>\n",
       "      <td>0</td>\n",
       "      <td>...</td>\n",
       "      <td>1</td>\n",
       "      <td>0</td>\n",
       "      <td>1</td>\n",
       "      <td>0</td>\n",
       "      <td>1</td>\n",
       "      <td>0</td>\n",
       "      <td>0</td>\n",
       "      <td>0</td>\n",
       "      <td>1</td>\n",
       "      <td>1</td>\n",
       "    </tr>\n",
       "    <tr>\n",
       "      <th>2</th>\n",
       "      <td>-1.460982</td>\n",
       "      <td>-0.201558</td>\n",
       "      <td>-0.950645</td>\n",
       "      <td>-0.112803</td>\n",
       "      <td>0</td>\n",
       "      <td>1</td>\n",
       "      <td>0</td>\n",
       "      <td>0</td>\n",
       "      <td>0</td>\n",
       "      <td>1</td>\n",
       "      <td>...</td>\n",
       "      <td>1</td>\n",
       "      <td>0</td>\n",
       "      <td>1</td>\n",
       "      <td>0</td>\n",
       "      <td>1</td>\n",
       "      <td>0</td>\n",
       "      <td>0</td>\n",
       "      <td>0</td>\n",
       "      <td>0</td>\n",
       "      <td>1</td>\n",
       "    </tr>\n",
       "    <tr>\n",
       "      <th>3</th>\n",
       "      <td>0.016630</td>\n",
       "      <td>-0.201558</td>\n",
       "      <td>1.181459</td>\n",
       "      <td>-0.112803</td>\n",
       "      <td>0</td>\n",
       "      <td>0</td>\n",
       "      <td>1</td>\n",
       "      <td>0</td>\n",
       "      <td>1</td>\n",
       "      <td>0</td>\n",
       "      <td>...</td>\n",
       "      <td>1</td>\n",
       "      <td>0</td>\n",
       "      <td>1</td>\n",
       "      <td>0</td>\n",
       "      <td>1</td>\n",
       "      <td>0</td>\n",
       "      <td>1</td>\n",
       "      <td>0</td>\n",
       "      <td>1</td>\n",
       "      <td>0</td>\n",
       "    </tr>\n",
       "    <tr>\n",
       "      <th>4</th>\n",
       "      <td>0.643496</td>\n",
       "      <td>-0.201558</td>\n",
       "      <td>1.099455</td>\n",
       "      <td>-0.112803</td>\n",
       "      <td>0</td>\n",
       "      <td>0</td>\n",
       "      <td>1</td>\n",
       "      <td>0</td>\n",
       "      <td>1</td>\n",
       "      <td>0</td>\n",
       "      <td>...</td>\n",
       "      <td>1</td>\n",
       "      <td>0</td>\n",
       "      <td>1</td>\n",
       "      <td>0</td>\n",
       "      <td>1</td>\n",
       "      <td>0</td>\n",
       "      <td>0</td>\n",
       "      <td>0</td>\n",
       "      <td>1</td>\n",
       "      <td>1</td>\n",
       "    </tr>\n",
       "    <tr>\n",
       "      <th>...</th>\n",
       "      <td>...</td>\n",
       "      <td>...</td>\n",
       "      <td>...</td>\n",
       "      <td>...</td>\n",
       "      <td>...</td>\n",
       "      <td>...</td>\n",
       "      <td>...</td>\n",
       "      <td>...</td>\n",
       "      <td>...</td>\n",
       "      <td>...</td>\n",
       "      <td>...</td>\n",
       "      <td>...</td>\n",
       "      <td>...</td>\n",
       "      <td>...</td>\n",
       "      <td>...</td>\n",
       "      <td>...</td>\n",
       "      <td>...</td>\n",
       "      <td>...</td>\n",
       "      <td>...</td>\n",
       "      <td>...</td>\n",
       "      <td>...</td>\n",
       "    </tr>\n",
       "    <tr>\n",
       "      <th>99757</th>\n",
       "      <td>-0.923668</td>\n",
       "      <td>-0.201558</td>\n",
       "      <td>-0.950645</td>\n",
       "      <td>-0.112803</td>\n",
       "      <td>0</td>\n",
       "      <td>1</td>\n",
       "      <td>0</td>\n",
       "      <td>0</td>\n",
       "      <td>0</td>\n",
       "      <td>1</td>\n",
       "      <td>...</td>\n",
       "      <td>1</td>\n",
       "      <td>0</td>\n",
       "      <td>1</td>\n",
       "      <td>0</td>\n",
       "      <td>1</td>\n",
       "      <td>0</td>\n",
       "      <td>0</td>\n",
       "      <td>0</td>\n",
       "      <td>0</td>\n",
       "      <td>1</td>\n",
       "    </tr>\n",
       "    <tr>\n",
       "      <th>99758</th>\n",
       "      <td>1.180809</td>\n",
       "      <td>-0.201558</td>\n",
       "      <td>1.181459</td>\n",
       "      <td>-0.112803</td>\n",
       "      <td>0</td>\n",
       "      <td>0</td>\n",
       "      <td>1</td>\n",
       "      <td>0</td>\n",
       "      <td>0</td>\n",
       "      <td>1</td>\n",
       "      <td>...</td>\n",
       "      <td>1</td>\n",
       "      <td>0</td>\n",
       "      <td>1</td>\n",
       "      <td>0</td>\n",
       "      <td>1</td>\n",
       "      <td>0</td>\n",
       "      <td>0</td>\n",
       "      <td>0</td>\n",
       "      <td>1</td>\n",
       "      <td>1</td>\n",
       "    </tr>\n",
       "    <tr>\n",
       "      <th>99759</th>\n",
       "      <td>-0.475907</td>\n",
       "      <td>-0.201558</td>\n",
       "      <td>1.181459</td>\n",
       "      <td>-0.112803</td>\n",
       "      <td>0</td>\n",
       "      <td>0</td>\n",
       "      <td>0</td>\n",
       "      <td>1</td>\n",
       "      <td>0</td>\n",
       "      <td>1</td>\n",
       "      <td>...</td>\n",
       "      <td>0</td>\n",
       "      <td>0</td>\n",
       "      <td>0</td>\n",
       "      <td>0</td>\n",
       "      <td>0</td>\n",
       "      <td>0</td>\n",
       "      <td>0</td>\n",
       "      <td>0</td>\n",
       "      <td>1</td>\n",
       "      <td>0</td>\n",
       "    </tr>\n",
       "    <tr>\n",
       "      <th>99760</th>\n",
       "      <td>-0.207251</td>\n",
       "      <td>-0.201558</td>\n",
       "      <td>1.181459</td>\n",
       "      <td>-0.112803</td>\n",
       "      <td>0</td>\n",
       "      <td>0</td>\n",
       "      <td>1</td>\n",
       "      <td>0</td>\n",
       "      <td>0</td>\n",
       "      <td>0</td>\n",
       "      <td>...</td>\n",
       "      <td>1</td>\n",
       "      <td>0</td>\n",
       "      <td>1</td>\n",
       "      <td>0</td>\n",
       "      <td>1</td>\n",
       "      <td>0</td>\n",
       "      <td>0</td>\n",
       "      <td>0</td>\n",
       "      <td>1</td>\n",
       "      <td>1</td>\n",
       "    </tr>\n",
       "    <tr>\n",
       "      <th>99761</th>\n",
       "      <td>1.449466</td>\n",
       "      <td>-0.201558</td>\n",
       "      <td>-0.950645</td>\n",
       "      <td>-0.112803</td>\n",
       "      <td>0</td>\n",
       "      <td>1</td>\n",
       "      <td>0</td>\n",
       "      <td>0</td>\n",
       "      <td>0</td>\n",
       "      <td>1</td>\n",
       "      <td>...</td>\n",
       "      <td>1</td>\n",
       "      <td>0</td>\n",
       "      <td>1</td>\n",
       "      <td>0</td>\n",
       "      <td>1</td>\n",
       "      <td>0</td>\n",
       "      <td>0</td>\n",
       "      <td>0</td>\n",
       "      <td>1</td>\n",
       "      <td>0</td>\n",
       "    </tr>\n",
       "  </tbody>\n",
       "</table>\n",
       "<p>99762 rows × 119 columns</p>\n",
       "</div>"
      ],
      "text/plain": [
       "            age   wage_ph  weeks_worked  investment_income  \\\n",
       "0      0.150958 -0.201558     -0.458621          -0.112803   \n",
       "1      0.419615 -0.201558      0.115407           0.371443   \n",
       "2     -1.460982 -0.201558     -0.950645          -0.112803   \n",
       "3      0.016630 -0.201558      1.181459          -0.112803   \n",
       "4      0.643496 -0.201558      1.099455          -0.112803   \n",
       "...         ...       ...           ...                ...   \n",
       "99757 -0.923668 -0.201558     -0.950645          -0.112803   \n",
       "99758  1.180809 -0.201558      1.181459          -0.112803   \n",
       "99759 -0.475907 -0.201558      1.181459          -0.112803   \n",
       "99760 -0.207251 -0.201558      1.181459          -0.112803   \n",
       "99761  1.449466 -0.201558     -0.950645          -0.112803   \n",
       "\n",
       "       workclass_Never worked  workclass_Other  workclass_Private  \\\n",
       "0                           0                0                  1   \n",
       "1                           0                0                  0   \n",
       "2                           0                1                  0   \n",
       "3                           0                0                  1   \n",
       "4                           0                0                  1   \n",
       "...                       ...              ...                ...   \n",
       "99757                       0                1                  0   \n",
       "99758                       0                0                  1   \n",
       "99759                       0                0                  0   \n",
       "99760                       0                0                  1   \n",
       "99761                       0                1                  0   \n",
       "\n",
       "       workclass_Self-employed  education_HSD and some college  \\\n",
       "0                            0                               0   \n",
       "1                            1                               1   \n",
       "2                            0                               0   \n",
       "3                            0                               1   \n",
       "4                            0                               1   \n",
       "...                        ...                             ...   \n",
       "99757                        0                               0   \n",
       "99758                        0                               0   \n",
       "99759                        1                               0   \n",
       "99760                        0                               0   \n",
       "99761                        0                               0   \n",
       "\n",
       "       education_No high school diploma  ...  father_country_United States  \\\n",
       "0                                     1  ...                             0   \n",
       "1                                     0  ...                             1   \n",
       "2                                     1  ...                             1   \n",
       "3                                     0  ...                             1   \n",
       "4                                     0  ...                             1   \n",
       "...                                 ...  ...                           ...   \n",
       "99757                                 1  ...                             1   \n",
       "99758                                 1  ...                             1   \n",
       "99759                                 1  ...                             0   \n",
       "99760                                 0  ...                             1   \n",
       "99761                                 1  ...                             1   \n",
       "\n",
       "       mother_country_Other  mother_country_United States  self_country_Other  \\\n",
       "0                         0                             0                   0   \n",
       "1                         0                             1                   0   \n",
       "2                         0                             1                   0   \n",
       "3                         0                             1                   0   \n",
       "4                         0                             1                   0   \n",
       "...                     ...                           ...                 ...   \n",
       "99757                     0                             1                   0   \n",
       "99758                     0                             1                   0   \n",
       "99759                     0                             0                   0   \n",
       "99760                     0                             1                   0   \n",
       "99761                     0                             1                   0   \n",
       "\n",
       "       self_country_United States  own_business_1  own_business_2  \\\n",
       "0                               0               0               0   \n",
       "1                               1               0               0   \n",
       "2                               1               0               0   \n",
       "3                               1               0               1   \n",
       "4                               1               0               0   \n",
       "...                           ...             ...             ...   \n",
       "99757                           1               0               0   \n",
       "99758                           1               0               0   \n",
       "99759                           0               0               0   \n",
       "99760                           1               0               0   \n",
       "99761                           1               0               0   \n",
       "\n",
       "       vet_benefit_1  vet_benefit_2  year_95  \n",
       "0                  0              1        1  \n",
       "1                  0              1        1  \n",
       "2                  0              0        1  \n",
       "3                  0              1        0  \n",
       "4                  0              1        1  \n",
       "...              ...            ...      ...  \n",
       "99757              0              0        1  \n",
       "99758              0              1        1  \n",
       "99759              0              1        0  \n",
       "99760              0              1        1  \n",
       "99761              0              1        0  \n",
       "\n",
       "[99762 rows x 119 columns]"
      ]
     },
     "execution_count": 54,
     "metadata": {},
     "output_type": "execute_result"
    }
   ],
   "source": [
    "X_test_dm"
   ]
  },
  {
   "cell_type": "code",
   "execution_count": 55,
   "id": "30cca00f-2cdb-4afa-a530-794ec3e59a26",
   "metadata": {},
   "outputs": [
    {
     "name": "stdout",
     "output_type": "stream",
     "text": [
      "best parameter: RandomForestClassifier(max_depth=30, n_estimators=45, random_state=13)\n",
      "Cross-validation f1 for random forest: 0.478212258085284\n",
      "Test f1 for random forest: 0.5183809877460082\n"
     ]
    },
    {
     "data": {
      "text/plain": [
       "array([[91782,  1794],\n",
       "       [ 3394,  2792]], dtype=int64)"
      ]
     },
     "execution_count": 55,
     "metadata": {},
     "output_type": "execute_result"
    }
   ],
   "source": [
    "rf_cv_f1 = rf_gs.best_score_\n",
    "rf_test_f1 = rf_gs.score(X_test_dm, y_test)\n",
    "print(f'best parameter: {rf_best}')\n",
    "print(f'Cross-validation f1 for random forest: {rf_cv_f1}\\nTest f1 for random forest: {rf_test_f1}')\n",
    "confusion_matrix(y_test, rf_gs.predict(X_test_dm))"
   ]
  },
  {
   "cell_type": "code",
   "execution_count": 59,
   "id": "7481f80b-7eba-49aa-8137-b29ef518eb2a",
   "metadata": {},
   "outputs": [
    {
     "name": "stdout",
     "output_type": "stream",
     "text": [
      "              precision    recall  f1-score   support\n",
      "\n",
      "           0       0.96      0.98      0.97     93576\n",
      "           1       0.61      0.45      0.52      6186\n",
      "\n",
      "    accuracy                           0.95     99762\n",
      "   macro avg       0.79      0.72      0.75     99762\n",
      "weighted avg       0.94      0.95      0.94     99762\n",
      "\n"
     ]
    }
   ],
   "source": [
    "print(classification_report(y_test, rf_gs.predict(X_test_dm)))"
   ]
  },
  {
   "cell_type": "code",
   "execution_count": null,
   "id": "6c422874-36b7-4e86-b7bd-f5bd7987af88",
   "metadata": {},
   "outputs": [],
   "source": []
  }
 ],
 "metadata": {
  "kernelspec": {
   "display_name": "Python 3 (ipykernel)",
   "language": "python",
   "name": "python3"
  },
  "language_info": {
   "codemirror_mode": {
    "name": "ipython",
    "version": 3
   },
   "file_extension": ".py",
   "mimetype": "text/x-python",
   "name": "python",
   "nbconvert_exporter": "python",
   "pygments_lexer": "ipython3",
   "version": "3.10.9"
  }
 },
 "nbformat": 4,
 "nbformat_minor": 5
}
