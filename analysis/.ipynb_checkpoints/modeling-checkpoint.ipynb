{
 "cells": [
  {
   "cell_type": "markdown",
   "id": "60e0d6a3-8f1d-44f9-89b5-a6226d53d4a5",
   "metadata": {
    "tags": []
   },
   "source": [
    "# Income Classification"
   ]
  },
  {
   "cell_type": "markdown",
   "id": "ca9b6abe-7610-4f78-932f-2c75aa8af002",
   "metadata": {
    "tags": []
   },
   "source": [
    "## Introduction"
   ]
  },
  {
   "cell_type": "markdown",
   "id": "a869d0bb-de95-4762-8c1f-ea0c05e5eb31",
   "metadata": {
    "tags": []
   },
   "source": [
    "In this income classification project, our objective is to identify the key characteristics associated with individuals who earn more or less than $50,000 per year. We will be working with a sample dataset from the US Census archive, which provides a comprehensive set of demographic, socioeconomic, and employment-related attributes for a diverse group of ~300,000 individuals. The dataset contains valuable information that can help us gain insights into the factors that contribute to income levels.\n",
    "\n",
    "The focus of our research question revolves around understanding the relationship between various features in the dataset and the target variable, which represents whether an individual earns more or less than $50,000 annually. By examining these characteristics, we aim to build a predictive model that can accurately classify individuals into their respective income categories based on their attributes.\n",
    "\n",
    "Identifying the factors that contribute to higher or lower incomes is crucial for several reasons. It can provide valuable insights into income inequality, socioeconomic disparities, and the factors that influence financial success. Understanding these factors can help policymakers, organizations, and individuals make informed decisions and design targeted interventions to promote upward mobility and improve economic well-being.\n",
    "\n",
    "Throughout this project, we will leverage various machine learning techniques and statistical analysis methods to explore the dataset, preprocess the data, perform feature engineering, and train predictive models. Our goal is to uncover the most influential features and develop a robust classification model that can effectively distinguish between high and low-income individuals.\n",
    "\n",
    "By successfully identifying the characteristics associated with different income levels, we can contribute to the understanding of socioeconomic dynamics and provide practical insights for decision-making in areas such as policy formulation, resource allocation, and economic planning.\n",
    "\n",
    "Let's dive into the analysis and explore the census dataset to uncover the key factors that influence income classification.\n",
    "\n",
    "\n",
    "\n",
    "\n",
    "\n",
    "\n"
   ]
  },
  {
   "cell_type": "markdown",
   "id": "5a412937-7294-4595-9c73-0470f7e7b971",
   "metadata": {},
   "source": [
    "## Setup"
   ]
  },
  {
   "cell_type": "markdown",
   "id": "19efcd4e-10f0-4d54-b474-528b65b5941a",
   "metadata": {},
   "source": [
    "We start by importing the python packages needed for the project."
   ]
  },
  {
   "cell_type": "code",
   "execution_count": 7,
   "id": "f9781cfa-78d6-418d-af37-2f0312735791",
   "metadata": {},
   "outputs": [],
   "source": [
    "import pandas as pd\n",
    "import numpy as np\n",
    "import seaborn as sns\n",
    "import matplotlib.pyplot as plt\n",
    "import statsmodels.api as sm\n",
    "from sklearn import preprocessing\n",
    "from sklearn.ensemble import AdaBoostClassifier, RandomForestClassifier\n",
    "from sklearn.linear_model import LogisticRegression\n",
    "from sklearn.model_selection import GridSearchCV, train_test_split, StratifiedKFold\n",
    "from sklearn.metrics import confusion_matrix, roc_curve, roc_auc_score, classification_report\n",
    "import os\n",
    "from imblearn.under_sampling import NearMiss\n",
    "from imblearn.over_sampling import SMOTE\n"
   ]
  },
  {
   "cell_type": "markdown",
   "id": "cb4b8737-8cf9-4150-9256-7d8614976677",
   "metadata": {},
   "source": [
    "Next, we import source functions from the src folder. To enable this, we set the working directory to the home folder."
   ]
  },
  {
   "cell_type": "code",
   "execution_count": 8,
   "id": "bcefc1ac-a977-4503-ac97-411c9b746887",
   "metadata": {},
   "outputs": [
    {
     "data": {
      "text/plain": [
       "'C:\\\\Users\\\\joeje\\\\Documents\\\\income_classification'"
      ]
     },
     "execution_count": 8,
     "metadata": {},
     "output_type": "execute_result"
    }
   ],
   "source": [
    "# Navigate to root\n",
    "if os.getcwd().endswith(\"analysis\"):\n",
    "    PATH_TO_ROOT = \"../\"\n",
    "    os.chdir(PATH_TO_ROOT)\n",
    "os.getcwd() "
   ]
  },
  {
   "cell_type": "code",
   "execution_count": 9,
   "id": "067e123c-b571-4119-8c55-3fd86569e102",
   "metadata": {},
   "outputs": [],
   "source": [
    "# import source functions\n",
    "from src.preprocessing import * \n",
    "from src.feature_engineering import *"
   ]
  },
  {
   "cell_type": "markdown",
   "id": "a3c83d2b-46c7-4be6-864d-c0737dac0419",
   "metadata": {},
   "source": [
    "#### Load Raw Data"
   ]
  },
  {
   "cell_type": "markdown",
   "id": "a8429134-3962-404f-a7f0-d38941b66e37",
   "metadata": {},
   "source": [
    "Now, we load the raw data from the `data` folder. Our data was already split into train and test sets."
   ]
  },
  {
   "cell_type": "code",
   "execution_count": 10,
   "id": "6b2c86b1-97b8-402b-a2aa-5bdca0db9452",
   "metadata": {
    "tags": []
   },
   "outputs": [],
   "source": [
    "train = load_data(\"data/census_income_learn.csv\")\n",
    "test = load_data(\"data/census_income_test.csv\")"
   ]
  },
  {
   "cell_type": "markdown",
   "id": "51cf43ca-0efe-400d-8730-dae81665fa6a",
   "metadata": {},
   "source": [
    "We examine the dataset using the head() method."
   ]
  },
  {
   "cell_type": "code",
   "execution_count": 11,
   "id": "6a54bef4-8d13-4771-acbf-d131ac8e9086",
   "metadata": {},
   "outputs": [
    {
     "data": {
      "text/html": [
       "<div>\n",
       "<style scoped>\n",
       "    .dataframe tbody tr th:only-of-type {\n",
       "        vertical-align: middle;\n",
       "    }\n",
       "\n",
       "    .dataframe tbody tr th {\n",
       "        vertical-align: top;\n",
       "    }\n",
       "\n",
       "    .dataframe thead th {\n",
       "        text-align: right;\n",
       "    }\n",
       "</style>\n",
       "<table border=\"1\" class=\"dataframe\">\n",
       "  <thead>\n",
       "    <tr style=\"text-align: right;\">\n",
       "      <th></th>\n",
       "      <th>age</th>\n",
       "      <th>workclass</th>\n",
       "      <th>industry_code</th>\n",
       "      <th>occupation_code</th>\n",
       "      <th>education</th>\n",
       "      <th>wage_ph</th>\n",
       "      <th>educ_last_wk</th>\n",
       "      <th>marital_status</th>\n",
       "      <th>maj_ind_code</th>\n",
       "      <th>maj_occ_code</th>\n",
       "      <th>...</th>\n",
       "      <th>father_country</th>\n",
       "      <th>mother_country</th>\n",
       "      <th>self_country</th>\n",
       "      <th>citizenship</th>\n",
       "      <th>own_business</th>\n",
       "      <th>vet_quest</th>\n",
       "      <th>vet_benefit</th>\n",
       "      <th>weeks_worked</th>\n",
       "      <th>year</th>\n",
       "      <th>income</th>\n",
       "    </tr>\n",
       "  </thead>\n",
       "  <tbody>\n",
       "    <tr>\n",
       "      <th>0</th>\n",
       "      <td>73</td>\n",
       "      <td>Not in universe</td>\n",
       "      <td>0</td>\n",
       "      <td>0</td>\n",
       "      <td>High school graduate</td>\n",
       "      <td>0</td>\n",
       "      <td>Not in universe</td>\n",
       "      <td>Widowed</td>\n",
       "      <td>Not in universe or children</td>\n",
       "      <td>Not in universe</td>\n",
       "      <td>...</td>\n",
       "      <td>United-States</td>\n",
       "      <td>United-States</td>\n",
       "      <td>United-States</td>\n",
       "      <td>Native- Born in the United States</td>\n",
       "      <td>0</td>\n",
       "      <td>Not in universe</td>\n",
       "      <td>2</td>\n",
       "      <td>0</td>\n",
       "      <td>95</td>\n",
       "      <td>- 50000.</td>\n",
       "    </tr>\n",
       "    <tr>\n",
       "      <th>1</th>\n",
       "      <td>58</td>\n",
       "      <td>Self-employed-not incorporated</td>\n",
       "      <td>4</td>\n",
       "      <td>34</td>\n",
       "      <td>Some college but no degree</td>\n",
       "      <td>0</td>\n",
       "      <td>Not in universe</td>\n",
       "      <td>Divorced</td>\n",
       "      <td>Construction</td>\n",
       "      <td>Precision production craft &amp; repair</td>\n",
       "      <td>...</td>\n",
       "      <td>United-States</td>\n",
       "      <td>United-States</td>\n",
       "      <td>United-States</td>\n",
       "      <td>Native- Born in the United States</td>\n",
       "      <td>0</td>\n",
       "      <td>Not in universe</td>\n",
       "      <td>2</td>\n",
       "      <td>52</td>\n",
       "      <td>94</td>\n",
       "      <td>- 50000.</td>\n",
       "    </tr>\n",
       "    <tr>\n",
       "      <th>2</th>\n",
       "      <td>18</td>\n",
       "      <td>Not in universe</td>\n",
       "      <td>0</td>\n",
       "      <td>0</td>\n",
       "      <td>10th grade</td>\n",
       "      <td>0</td>\n",
       "      <td>High school</td>\n",
       "      <td>Never married</td>\n",
       "      <td>Not in universe or children</td>\n",
       "      <td>Not in universe</td>\n",
       "      <td>...</td>\n",
       "      <td>Vietnam</td>\n",
       "      <td>Vietnam</td>\n",
       "      <td>Vietnam</td>\n",
       "      <td>Foreign born- Not a citizen of U S</td>\n",
       "      <td>0</td>\n",
       "      <td>Not in universe</td>\n",
       "      <td>2</td>\n",
       "      <td>0</td>\n",
       "      <td>95</td>\n",
       "      <td>- 50000.</td>\n",
       "    </tr>\n",
       "    <tr>\n",
       "      <th>3</th>\n",
       "      <td>9</td>\n",
       "      <td>Not in universe</td>\n",
       "      <td>0</td>\n",
       "      <td>0</td>\n",
       "      <td>Children</td>\n",
       "      <td>0</td>\n",
       "      <td>Not in universe</td>\n",
       "      <td>Never married</td>\n",
       "      <td>Not in universe or children</td>\n",
       "      <td>Not in universe</td>\n",
       "      <td>...</td>\n",
       "      <td>United-States</td>\n",
       "      <td>United-States</td>\n",
       "      <td>United-States</td>\n",
       "      <td>Native- Born in the United States</td>\n",
       "      <td>0</td>\n",
       "      <td>Not in universe</td>\n",
       "      <td>0</td>\n",
       "      <td>0</td>\n",
       "      <td>94</td>\n",
       "      <td>- 50000.</td>\n",
       "    </tr>\n",
       "    <tr>\n",
       "      <th>4</th>\n",
       "      <td>10</td>\n",
       "      <td>Not in universe</td>\n",
       "      <td>0</td>\n",
       "      <td>0</td>\n",
       "      <td>Children</td>\n",
       "      <td>0</td>\n",
       "      <td>Not in universe</td>\n",
       "      <td>Never married</td>\n",
       "      <td>Not in universe or children</td>\n",
       "      <td>Not in universe</td>\n",
       "      <td>...</td>\n",
       "      <td>United-States</td>\n",
       "      <td>United-States</td>\n",
       "      <td>United-States</td>\n",
       "      <td>Native- Born in the United States</td>\n",
       "      <td>0</td>\n",
       "      <td>Not in universe</td>\n",
       "      <td>0</td>\n",
       "      <td>0</td>\n",
       "      <td>94</td>\n",
       "      <td>- 50000.</td>\n",
       "    </tr>\n",
       "  </tbody>\n",
       "</table>\n",
       "<p>5 rows × 42 columns</p>\n",
       "</div>"
      ],
      "text/plain": [
       "   age                        workclass  industry_code  occupation_code  \\\n",
       "0   73                  Not in universe              0                0   \n",
       "1   58   Self-employed-not incorporated              4               34   \n",
       "2   18                  Not in universe              0                0   \n",
       "3    9                  Not in universe              0                0   \n",
       "4   10                  Not in universe              0                0   \n",
       "\n",
       "                     education  wage_ph      educ_last_wk  marital_status  \\\n",
       "0         High school graduate        0   Not in universe         Widowed   \n",
       "1   Some college but no degree        0   Not in universe        Divorced   \n",
       "2                   10th grade        0       High school   Never married   \n",
       "3                     Children        0   Not in universe   Never married   \n",
       "4                     Children        0   Not in universe   Never married   \n",
       "\n",
       "                   maj_ind_code                          maj_occ_code  ...  \\\n",
       "0   Not in universe or children                       Not in universe  ...   \n",
       "1                  Construction   Precision production craft & repair  ...   \n",
       "2   Not in universe or children                       Not in universe  ...   \n",
       "3   Not in universe or children                       Not in universe  ...   \n",
       "4   Not in universe or children                       Not in universe  ...   \n",
       "\n",
       "   father_country  mother_country    self_country  \\\n",
       "0   United-States   United-States   United-States   \n",
       "1   United-States   United-States   United-States   \n",
       "2         Vietnam         Vietnam         Vietnam   \n",
       "3   United-States   United-States   United-States   \n",
       "4   United-States   United-States   United-States   \n",
       "\n",
       "                            citizenship own_business         vet_quest  \\\n",
       "0     Native- Born in the United States            0   Not in universe   \n",
       "1     Native- Born in the United States            0   Not in universe   \n",
       "2   Foreign born- Not a citizen of U S             0   Not in universe   \n",
       "3     Native- Born in the United States            0   Not in universe   \n",
       "4     Native- Born in the United States            0   Not in universe   \n",
       "\n",
       "   vet_benefit  weeks_worked  year     income  \n",
       "0            2             0    95   - 50000.  \n",
       "1            2            52    94   - 50000.  \n",
       "2            2             0    95   - 50000.  \n",
       "3            0             0    94   - 50000.  \n",
       "4            0             0    94   - 50000.  \n",
       "\n",
       "[5 rows x 42 columns]"
      ]
     },
     "execution_count": 11,
     "metadata": {},
     "output_type": "execute_result"
    }
   ],
   "source": [
    "train.head()"
   ]
  },
  {
   "cell_type": "markdown",
   "id": "3e846bdb-7f61-4b1c-8ea2-8143cd1bb412",
   "metadata": {},
   "source": [
    "The unit of observation in the dataset is an individual. The last column is the target variable. It classifies individuals' annual income above or below $50,000. \n",
    "\n",
    "We check the dimensions of the datasets. Both train and test sets have 42 columns. The train set has over twice as many observations as the test set."
   ]
  },
  {
   "cell_type": "code",
   "execution_count": 12,
   "id": "a75d1d69-dec1-4e01-b427-50794fca13e8",
   "metadata": {},
   "outputs": [
    {
     "name": "stdout",
     "output_type": "stream",
     "text": [
      "Train shape: (199523, 42)\n",
      "Test shape: (99762, 42)\n"
     ]
    }
   ],
   "source": [
    "print(\"Train shape:\", train.shape)\n",
    "print(\"Test shape:\", test.shape)"
   ]
  },
  {
   "cell_type": "markdown",
   "id": "ed5503c8-aebb-427b-9d63-2fa5554989db",
   "metadata": {},
   "source": [
    "We also check for missing values using the `get_missing_columns` function. We find that there are no native missing values in the dataset."
   ]
  },
  {
   "cell_type": "code",
   "execution_count": 13,
   "id": "ac705cc9-399d-40be-88e8-ec9142c71d1a",
   "metadata": {},
   "outputs": [
    {
     "data": {
      "text/plain": [
       "Series([], dtype: float64)"
      ]
     },
     "execution_count": 13,
     "metadata": {},
     "output_type": "execute_result"
    }
   ],
   "source": [
    "get_missing_columns(train)"
   ]
  },
  {
   "cell_type": "markdown",
   "id": "5376cad9-df5e-495e-b756-0ff150fbee12",
   "metadata": {},
   "source": [
    "## Pre-processing"
   ]
  },
  {
   "cell_type": "markdown",
   "id": "8c3fe494-8bd0-4201-b2d4-db62f9fab882",
   "metadata": {},
   "source": [
    "In this section, we focus on data preprocessing to ensure the data is in the appropriate format for analysis. The preprocessing steps that are relevant to columns are applied consistent across both the train and test sets to maintain uniformity. This is important because when we train and evaluate our models, having consistent data formatting facilitates reliable model performance assessment and comparison. By preprocessing the data in a standardized manner, we can ensure that any differences in model outcomes are primarily driven by the models themselves rather than inconsistencies in the data."
   ]
  },
  {
   "cell_type": "markdown",
   "id": "2dcddf54-a6c7-4a6b-abb1-8f38e49425d0",
   "metadata": {},
   "source": [
    "#### Dimensionality Reduction"
   ]
  },
  {
   "cell_type": "markdown",
   "id": "b2034191-bf12-42ad-90f8-b9d937fc3e33",
   "metadata": {},
   "source": [
    "Dimensionality reduction is a valuable technique used in many data analysis and machine learning projects. For this project, we are applying dimensionality reduction to address the challenges posed by high-dimensional data. High-dimensional data refers to datasets with a large number of features or variables (typically more than 10). Although having abundant information can be beneficial, it can also lead to issues such as increased computational complexity, the curse of dimensionality, and overfitting. By reducing the dimensionality of the data, we aim to overcome these challenges.\n",
    "\n",
    "To start, we drop some columns based on our domain expertise and considerations. The following columns are excluded from our analysis:\n",
    "\n",
    "- `instance_weight`: We do not take into account the weight of each observation in the general population, as it is not relevant to our research question.\n",
    "- `industry_code` and `occupation_code`: The information contained in these columns is already captured in the major industry code and major occupation code variables, respectively, making them redundant.\n",
    "- `educ_last_wk`: This variable, which indicates an individual's education level from the previous week, is sparse as it does not apply to many respondents. Therefore, we exclude it from our analysis.\n",
    "- `region_prev_res` and `state_prev_res`: These variables, which provide information about an individual's previous residential state and region, respectively, are also sparse and do not apply to a significant number of respondents who are non-movers. Hence, we remove them from our dataset.\n",
    "- `household_details`: This column offers a more detailed version of the household_summary variable. To reduce dimensionality and avoid redundancy, we drop household_details.\n",
    "- `citizenship`: Since there is already another column (`sself_country`) that provides information about an individual's nationality, we exclude the `citizenship` column and rely on `self_country` instead.\n",
    "- `vet_quest`: This column is sparsely populated, and we can already determine if an individual is a veteran using the `vet_benefit` column. Hence, we remove `vet_quest` from our dataset.\n",
    "- `employer_size`: This variable exhibits high correlation with the number of weeks worked. This may be because both variables indicate that an individual is working. Since the latter has higher variance, we decide to drop `employer_size` from our analysis.\n",
    "\n",
    "By dropping these columns, we aim to streamline our dataset and focus on the most relevant variables for our income classification task."
   ]
  },
  {
   "cell_type": "code",
   "execution_count": 14,
   "id": "faa984ed-939b-434f-8551-f218eeefc7f2",
   "metadata": {},
   "outputs": [],
   "source": [
    "# define columns to drop\n",
    "cols_to_drop = [\"instance_weight\", \"industry_code\", \"occupation_code\", \"educ_last_wk\",\n",
    "                \"unemp_type\", \"region_prev_res\", \"state_prev_res\", \"household_details\", \"citizenship\",\n",
    "                \"vet_quest\", \"employer_size\"]\n",
    "\n",
    "# drop columns from both train and test sets\n",
    "train = train.drop(cols_to_drop, axis=1)\n",
    "test = test.drop(cols_to_drop, axis=1)"
   ]
  },
  {
   "cell_type": "code",
   "execution_count": 15,
   "id": "18465d47-64e7-40d9-b33b-884dab5bc4bb",
   "metadata": {},
   "outputs": [
    {
     "name": "stdout",
     "output_type": "stream",
     "text": [
      "Train shape: (199523, 31)\n",
      "Test shape: (99762, 31)\n"
     ]
    }
   ],
   "source": [
    "print(\"Train shape:\", train.shape)\n",
    "print(\"Test shape:\", test.shape)"
   ]
  },
  {
   "cell_type": "markdown",
   "id": "3f9b4597-3fd8-4d41-9b2a-b78d46055a8f",
   "metadata": {},
   "source": [
    "#### Fix data types"
   ]
  },
  {
   "cell_type": "markdown",
   "id": "3e5ef416-1998-4c8b-8119-f3a2f04a4957",
   "metadata": {},
   "source": [
    "Next, we proceed to verify and adjust the data types of each variable to align with their intended meaning and the requirements of our models. Our initial step involves examining the current data types assigned to each variable."
   ]
  },
  {
   "cell_type": "code",
   "execution_count": 16,
   "id": "b6a48431-556e-4fb2-884c-ae57dccdc900",
   "metadata": {},
   "outputs": [
    {
     "data": {
      "text/plain": [
       "age                      int64\n",
       "workclass               object\n",
       "education               object\n",
       "wage_ph                  int64\n",
       "marital_status          object\n",
       "maj_ind_code            object\n",
       "maj_occ_code            object\n",
       "race                    object\n",
       "hispanic_origin         object\n",
       "sex                     object\n",
       "union_member            object\n",
       "emp_status              object\n",
       "capgain                  int64\n",
       "caploss                  int64\n",
       "stock_div                int64\n",
       "tax_filer_status        object\n",
       "household_summary       object\n",
       "migration_msa           object\n",
       "migration_reg           object\n",
       "migration_within_reg    object\n",
       "live_here_year_ago      object\n",
       "migration_sunbelt       object\n",
       "presence_of_parents     object\n",
       "father_country          object\n",
       "mother_country          object\n",
       "self_country            object\n",
       "own_business             int64\n",
       "vet_benefit              int64\n",
       "weeks_worked             int64\n",
       "year                     int64\n",
       "income                  object\n",
       "dtype: object"
      ]
     },
     "execution_count": 16,
     "metadata": {},
     "output_type": "execute_result"
    }
   ],
   "source": [
    "train.dtypes"
   ]
  },
  {
   "cell_type": "markdown",
   "id": "0e27ab7e-8ba0-4e6f-b613-752f0252e926",
   "metadata": {},
   "source": [
    "We notice that some categorical variables like `own_business`, `vet_benefit`, and `year` are wrongly coded as integers, so we start by changing those to type:category. Next, we convert all object types to category. This step ensures that our data types are consistent and ready for modeling later."
   ]
  },
  {
   "cell_type": "code",
   "execution_count": 17,
   "id": "199d40e6-6655-4efe-a3a3-d4a52588d289",
   "metadata": {},
   "outputs": [],
   "source": [
    "# columns to convert to category\n",
    "cols_to_category = [\"own_business\", \"vet_benefit\", \"year\"]\n",
    "train[cols_to_category] = train[cols_to_category].astype(\"category\")\n",
    "test[cols_to_category] = test[cols_to_category].astype(\"category\")\n",
    "\n",
    "# convert object datatypes to category\n",
    "train[train.select_dtypes(include=\"object\").columns] = train.select_dtypes(include=\"object\").astype(\"category\")\n",
    "test[test.select_dtypes(include=\"object\").columns] = test.select_dtypes(include=\"object\").astype(\"category\")"
   ]
  },
  {
   "cell_type": "markdown",
   "id": "a2c1cadb-515a-4c37-8d2c-69c1d953b3db",
   "metadata": {},
   "source": [
    "We check the data types again to verify that they are as intended."
   ]
  },
  {
   "cell_type": "code",
   "execution_count": 18,
   "id": "69581996-b5e7-4962-8ee1-16a86b0cd647",
   "metadata": {},
   "outputs": [
    {
     "data": {
      "text/plain": [
       "age                        int64\n",
       "workclass               category\n",
       "education               category\n",
       "wage_ph                    int64\n",
       "marital_status          category\n",
       "maj_ind_code            category\n",
       "maj_occ_code            category\n",
       "race                    category\n",
       "hispanic_origin         category\n",
       "sex                     category\n",
       "union_member            category\n",
       "emp_status              category\n",
       "capgain                    int64\n",
       "caploss                    int64\n",
       "stock_div                  int64\n",
       "tax_filer_status        category\n",
       "household_summary       category\n",
       "migration_msa           category\n",
       "migration_reg           category\n",
       "migration_within_reg    category\n",
       "live_here_year_ago      category\n",
       "migration_sunbelt       category\n",
       "presence_of_parents     category\n",
       "father_country          category\n",
       "mother_country          category\n",
       "self_country            category\n",
       "own_business            category\n",
       "vet_benefit             category\n",
       "weeks_worked               int64\n",
       "year                    category\n",
       "income                  category\n",
       "dtype: object"
      ]
     },
     "execution_count": 18,
     "metadata": {},
     "output_type": "execute_result"
    }
   ],
   "source": [
    "train.dtypes"
   ]
  },
  {
   "cell_type": "markdown",
   "id": "6f759219-ab60-476f-9c12-edcad9d59ae2",
   "metadata": {
    "tags": []
   },
   "source": [
    "### Feature Engineering\n",
    "\n",
    "Feature engineering plays a crucial role in our project by transforming and creating new features from the existing dataset. These engineered features aim to capture important patterns and relationships that can improve the accuracy and interpretability of our models for income classification."
   ]
  },
  {
   "cell_type": "markdown",
   "id": "6ca6aea3-d39f-410f-962c-ee7645e06e21",
   "metadata": {},
   "source": [
    "#### Investment Income\n",
    "\n",
    "To capture the overall impact of investments, we perform feature engineering by combining the variables `capgain`, `caploss`, and `stock_div`. By creating a new variable `investment_income = capgain - caploss + stock_div`, we consolidate the information related to investments into a single feature. This simplifies the dataset and removes the need to consider the individual variables separately. Consequently, we can enhance the predictive power of our models by incorporating this aggregated feature while discarding the original columns."
   ]
  },
  {
   "cell_type": "code",
   "execution_count": 19,
   "id": "0bb9327a-c58b-4360-bb5e-dd6ecfe80ba4",
   "metadata": {},
   "outputs": [],
   "source": [
    "# create investment_income in train and test sets\n",
    "train['investment_income'] = train['capgain'] - train['caploss'] + train['stock_div']\n",
    "test['investment_income'] = test['capgain'] - test['caploss'] + test['stock_div']\n",
    "\n",
    "# drop original columns\n",
    "cols_to_drop = ['capgain', 'caploss', 'stock_div']\n",
    "train = train.drop(cols_to_drop, axis=1)\n",
    "test = test.drop(cols_to_drop, axis=1)"
   ]
  },
  {
   "cell_type": "markdown",
   "id": "ec704921-0870-4268-b7fd-836d87d2fca2",
   "metadata": {},
   "source": [
    "#### Mapping Categorical Variables\n",
    "\n",
    "In order to simplify the analysis of categorical variables, we perform a mapping step to reduce the number of distinct categories. By grouping certain categories together, we aim to create more meaningful and concise representations of the data. This mapping process allows us to transform the original categorical variables into a reduced set of categories, providing a clearer understanding of their impact on the target variable. Through this mapping, we can effectively capture the essential information from the categorical variables while maintaining interpretability in our analysis."
   ]
  },
  {
   "cell_type": "code",
   "execution_count": 20,
   "id": "a69643a5-7f4a-45ef-9eea-88d17d624453",
   "metadata": {},
   "outputs": [],
   "source": [
    "# The 'train' and 'test' datasets are updated using the pipe method to apply the mapping functions sequentially.\n",
    "\n",
    "train = (\n",
    "    train.pipe(map_workclass)\n",
    "    .pipe(map_education)\n",
    "    .pipe(map_hispanic)\n",
    "    .pipe(map_tax_filer_status)\n",
    "    .pipe(map_household_summary)\n",
    "    .pipe(map_father_country)\n",
    "    .pipe(map_mother_country)\n",
    "    .pipe(map_self_country)\n",
    "    .pipe(map_emp_status)\n",
    ")\n",
    "\n",
    "test = (\n",
    "    test.pipe(map_workclass)\n",
    "    .pipe(map_education)\n",
    "    .pipe(map_hispanic)\n",
    "    .pipe(map_tax_filer_status)\n",
    "    .pipe(map_household_summary)\n",
    "    .pipe(map_father_country)\n",
    "    .pipe(map_mother_country)\n",
    "    .pipe(map_self_country)\n",
    "    .pipe(map_emp_status)\n",
    ")"
   ]
  },
  {
   "cell_type": "code",
   "execution_count": 21,
   "id": "a300c3a6-c771-404d-af62-ae83020c1572",
   "metadata": {},
   "outputs": [
    {
     "name": "stdout",
     "output_type": "stream",
     "text": [
      "Train shape: (199523, 29)\n",
      "Test shape: (99762, 29)\n"
     ]
    }
   ],
   "source": [
    "print(\"Train shape:\", train.shape)\n",
    "print(\"Test shape:\", test.shape)"
   ]
  },
  {
   "cell_type": "markdown",
   "id": "77c34bc7-b595-495e-83ff-58e3e1fc3b79",
   "metadata": {},
   "source": [
    "Below, we check again for missing values and notice that one of the mapping steps introduced missing values to the `hispanic_origin` variable. These were coded as `NA` or `Do not know`. We will handle these later."
   ]
  },
  {
   "cell_type": "code",
   "execution_count": 22,
   "id": "96d71dee-87b6-434a-9929-c282723f5865",
   "metadata": {},
   "outputs": [
    {
     "data": {
      "text/plain": [
       "hispanic_origin    1180\n",
       "dtype: int64"
      ]
     },
     "execution_count": 22,
     "metadata": {},
     "output_type": "execute_result"
    }
   ],
   "source": [
    "get_missing_columns(train)"
   ]
  },
  {
   "cell_type": "markdown",
   "id": "71e9d4c9-1880-43fe-b546-faa2d2280463",
   "metadata": {},
   "source": [
    "### EDA: Counts of target classes\n",
    "\n",
    "We check for class balance in the target variable `income`."
   ]
  },
  {
   "cell_type": "code",
   "execution_count": 23,
   "id": "2050fff8-3d35-41cc-bd50-e5a0d870868f",
   "metadata": {},
   "outputs": [
    {
     "data": {
      "image/png": "[encoded data removed]",
      "text/plain": [
       "<Figure size 640x480 with 1 Axes>"
      ]
     },
     "metadata": {},
     "output_type": "display_data"
    }
   ],
   "source": [
    "# create counts of target classes\n",
    "income_counts = train['income'].value_counts()\n",
    "\n",
    "# plot target class counts\n",
    "plt.bar(income_counts.index, income_counts.values)\n",
    "plt.xlabel('Income')\n",
    "plt.ylabel('Count')\n",
    "plt.title('Counts of Income in Train Dataset')\n",
    "plt.show()"
   ]
  },
  {
   "cell_type": "markdown",
   "id": "c142256c-25f5-4fb7-9320-a5e9fbb5fd29",
   "metadata": {},
   "source": [
    "### Filtering Rows in Train Set\n",
    "\n",
    "The plot above shows that the target class is highly imbalanced. We can take some preliminary steps to address this concern now in the train set."
   ]
  },
  {
   "cell_type": "markdown",
   "id": "beae79bd-3e93-4961-a23b-261b8ce03888",
   "metadata": {},
   "source": [
    "#### Dropping Duplicates\n",
    "\n",
    "We address the issue of duplicate records in our dataset. Duplicate records can introduce bias and affect the integrity of our analysis. Therefore, it is important to identify and remove these duplicates before proceeding with further data processing. This ensures that our analysis is based on unique and representative observations. Most of the duplicate records belong to the majority target class, so this step helps address imbalance."
   ]
  },
  {
   "cell_type": "markdown",
   "id": "98d83ece-1a6c-4966-9c70-e9b961d566c0",
   "metadata": {},
   "source": [
    "#### Dropping Children (age<15)\n",
    "\n",
    "During the exploratory data analysis (separate R file in directory), we learned that children (persons under 15 years of age) do not work. Thus, they cannot earn an income. We drop them all because they contribute to the target imbalance."
   ]
  },
  {
   "cell_type": "code",
   "execution_count": 24,
   "id": "5bcec4f0-471e-4576-8f6b-b24bbfc73443",
   "metadata": {},
   "outputs": [],
   "source": [
    "train = (\n",
    "    train.pipe(drop_children)\n",
    "    .pipe(drop_duplicates)\n",
    ")"
   ]
  },
  {
   "cell_type": "code",
   "execution_count": 25,
   "id": "2dda230e-469b-431a-a052-dd1e289042ab",
   "metadata": {},
   "outputs": [
    {
     "name": "stdout",
     "output_type": "stream",
     "text": [
      "Train shape: (129017, 29)\n",
      "Test shape: (99762, 29)\n"
     ]
    }
   ],
   "source": [
    "print(\"Train shape:\", train.shape)\n",
    "print(\"Test shape:\", test.shape)"
   ]
  },
  {
   "cell_type": "markdown",
   "id": "080296c9-1295-46df-a3a0-ca332df4f3fb",
   "metadata": {},
   "source": [
    "## Final Data Preparation\n",
    "\n",
    "To get our data ready for modeling, we one-hot encode categorical variables and do a train-test split."
   ]
  },
  {
   "cell_type": "markdown",
   "id": "1b102fd2-6f6e-4724-b94a-23373f455fae",
   "metadata": {},
   "source": [
    "#### Train-test split\n",
    "\n",
    "In order to evaluate the performance of our machine learning model and ensure its generalization, we need to split our dataset into two distinct subsets: train, and test.\n",
    "\n",
    "The train set will be used to train the model and the test set will be used for final evaluation of the model's performance on unseen data.\n",
    "\n",
    "By splitting the data, we can assess the model's ability to generalize to new, unseen examples and avoid overfitting. This process helps us make more reliable predictions on future data.\n",
    "\n",
    "The train and test splits were already made before the project.\n",
    "\n",
    "**Note**: We originally created a validation set to help with hyperparamter tuning. However, we were unable to complete this process due to low computing power, so chose to disable the validation set and regain more data in the train set."
   ]
  },
  {
   "cell_type": "code",
   "execution_count": 26,
   "id": "f69f6988-da04-4395-bb88-957253916b67",
   "metadata": {},
   "outputs": [
    {
     "name": "stdout",
     "output_type": "stream",
     "text": [
      "Train shape: (129017, 28)\n",
      "Test shape: (99762, 28)\n"
     ]
    }
   ],
   "source": [
    "# create feature and target sets for test and train sets\n",
    "X_test = test.drop(['income'],axis=1)\n",
    "y_test = test['income']\n",
    "X_train = train.drop(['income'],axis=1)\n",
    "y_train = train['income']\n",
    "\n",
    "# split the train sets into train and validation sets\n",
    "#X_train, X_val, y_train, y_val = train_test_split(X_train, y_train, test_size=0.2, random_state=42)\n",
    "\n",
    "print(\"Train shape:\", X_train.shape)\n",
    "# print(\"Val shape:\", X_val.shape)\n",
    "print(\"Test shape:\", X_test.shape)\n"
   ]
  },
  {
   "cell_type": "markdown",
   "id": "ecff27ac-0c9b-4b91-916b-2216e58625fc",
   "metadata": {
    "tags": []
   },
   "source": [
    "#### Create dummies\n",
    "\n",
    "When working with categorical variables in our dataset, we often need to convert them into numerical form to incorporate them into our machine learning models. One common approach is to create dummy variables. Dummy variables, also known as indicator variables, are binary variables that represent the presence or absence of a specific category within a categorical variable. Each category is encoded as a separate binary variable, where 1 indicates the presence of the category and 0 indicates the absence.\n",
    "\n",
    "However, when creating dummy variables, we need to be mindful of the issue of multicollinearity. Multicollinearity occurs when there is a high correlation between two or more dummy variables, which can lead to unstable and unreliable model estimates. To address multicollinearity, we typically drop one of the dummy variables for each categorical variable, known as the reference category. The reference category serves as the baseline against which the other categories are compared. By excluding the reference category, we ensure linear independence among the dummy variables and avoid perfect multicollinearity.\n",
    "\n",
    "By creating dummy variables and dropping the reference category, we can effectively incorporate categorical information into our models without introducing multicollinearity. This allows us to capture the impact of each category on the target variable while maintaining model stability and interpretability."
   ]
  },
  {
   "cell_type": "code",
   "execution_count": 27,
   "id": "bc49a9a7-436d-4d54-9072-376db2789db3",
   "metadata": {
    "tags": []
   },
   "outputs": [
    {
     "name": "stdout",
     "output_type": "stream",
     "text": [
      "Train shape: (129017, 118)\n",
      "Test shape: (99762, 118)\n"
     ]
    }
   ],
   "source": [
    "# Combine train and test sets\n",
    "X_combined = pd.concat([X_train, X_test])\n",
    "\n",
    "# Perform dummy encoding on the combined dataset\n",
    "X_combined_dm = pd.get_dummies(X_combined, drop_first=True)\n",
    "\n",
    "# Step 4: Split the combined dataset back into train, val and test sets\n",
    "X_train = X_combined_dm[:len(X_train)]\n",
    "#X_val = X_combined_dm[len(X_train):len(X_train)+len(X_val)]\n",
    "X_test = X_combined_dm[len(X_train):]\n",
    "\n",
    "# Check the shapes of train and test sets\n",
    "print(\"Train shape:\", X_train.shape)\n",
    "#print(\"Val shape:\", X_val.shape)\n",
    "print(\"Test shape:\", X_test.shape)"
   ]
  },
  {
   "cell_type": "code",
   "execution_count": 28,
   "id": "712ea64a-4d5b-4966-9976-4c2777977826",
   "metadata": {},
   "outputs": [
    {
     "data": {
      "text/html": [
       "<div>\n",
       "<style scoped>\n",
       "    .dataframe tbody tr th:only-of-type {\n",
       "        vertical-align: middle;\n",
       "    }\n",
       "\n",
       "    .dataframe tbody tr th {\n",
       "        vertical-align: top;\n",
       "    }\n",
       "\n",
       "    .dataframe thead th {\n",
       "        text-align: right;\n",
       "    }\n",
       "</style>\n",
       "<table border=\"1\" class=\"dataframe\">\n",
       "  <thead>\n",
       "    <tr style=\"text-align: right;\">\n",
       "      <th></th>\n",
       "      <th>age</th>\n",
       "      <th>wage_ph</th>\n",
       "      <th>weeks_worked</th>\n",
       "      <th>investment_income</th>\n",
       "      <th>workclass_Never worked</th>\n",
       "      <th>workclass_Other</th>\n",
       "      <th>workclass_Private</th>\n",
       "      <th>workclass_Self-employed</th>\n",
       "      <th>education_HSD and some college</th>\n",
       "      <th>education_No high school diploma</th>\n",
       "      <th>...</th>\n",
       "      <th>father_country_United States</th>\n",
       "      <th>mother_country_Other</th>\n",
       "      <th>mother_country_United States</th>\n",
       "      <th>self_country_Other</th>\n",
       "      <th>self_country_United States</th>\n",
       "      <th>own_business_1</th>\n",
       "      <th>own_business_2</th>\n",
       "      <th>vet_benefit_1</th>\n",
       "      <th>vet_benefit_2</th>\n",
       "      <th>year_95</th>\n",
       "    </tr>\n",
       "  </thead>\n",
       "  <tbody>\n",
       "    <tr>\n",
       "      <th>0</th>\n",
       "      <td>73</td>\n",
       "      <td>0</td>\n",
       "      <td>0</td>\n",
       "      <td>0</td>\n",
       "      <td>0</td>\n",
       "      <td>1</td>\n",
       "      <td>0</td>\n",
       "      <td>0</td>\n",
       "      <td>1</td>\n",
       "      <td>0</td>\n",
       "      <td>...</td>\n",
       "      <td>1</td>\n",
       "      <td>0</td>\n",
       "      <td>1</td>\n",
       "      <td>0</td>\n",
       "      <td>1</td>\n",
       "      <td>0</td>\n",
       "      <td>0</td>\n",
       "      <td>0</td>\n",
       "      <td>1</td>\n",
       "      <td>1</td>\n",
       "    </tr>\n",
       "    <tr>\n",
       "      <th>1</th>\n",
       "      <td>58</td>\n",
       "      <td>0</td>\n",
       "      <td>52</td>\n",
       "      <td>0</td>\n",
       "      <td>0</td>\n",
       "      <td>0</td>\n",
       "      <td>0</td>\n",
       "      <td>1</td>\n",
       "      <td>1</td>\n",
       "      <td>0</td>\n",
       "      <td>...</td>\n",
       "      <td>1</td>\n",
       "      <td>0</td>\n",
       "      <td>1</td>\n",
       "      <td>0</td>\n",
       "      <td>1</td>\n",
       "      <td>0</td>\n",
       "      <td>0</td>\n",
       "      <td>0</td>\n",
       "      <td>1</td>\n",
       "      <td>0</td>\n",
       "    </tr>\n",
       "    <tr>\n",
       "      <th>2</th>\n",
       "      <td>18</td>\n",
       "      <td>0</td>\n",
       "      <td>0</td>\n",
       "      <td>0</td>\n",
       "      <td>0</td>\n",
       "      <td>1</td>\n",
       "      <td>0</td>\n",
       "      <td>0</td>\n",
       "      <td>0</td>\n",
       "      <td>1</td>\n",
       "      <td>...</td>\n",
       "      <td>0</td>\n",
       "      <td>1</td>\n",
       "      <td>0</td>\n",
       "      <td>1</td>\n",
       "      <td>0</td>\n",
       "      <td>0</td>\n",
       "      <td>0</td>\n",
       "      <td>0</td>\n",
       "      <td>1</td>\n",
       "      <td>1</td>\n",
       "    </tr>\n",
       "    <tr>\n",
       "      <th>5</th>\n",
       "      <td>48</td>\n",
       "      <td>1200</td>\n",
       "      <td>52</td>\n",
       "      <td>0</td>\n",
       "      <td>0</td>\n",
       "      <td>0</td>\n",
       "      <td>1</td>\n",
       "      <td>0</td>\n",
       "      <td>1</td>\n",
       "      <td>0</td>\n",
       "      <td>...</td>\n",
       "      <td>0</td>\n",
       "      <td>0</td>\n",
       "      <td>1</td>\n",
       "      <td>0</td>\n",
       "      <td>1</td>\n",
       "      <td>0</td>\n",
       "      <td>1</td>\n",
       "      <td>0</td>\n",
       "      <td>1</td>\n",
       "      <td>1</td>\n",
       "    </tr>\n",
       "    <tr>\n",
       "      <th>6</th>\n",
       "      <td>42</td>\n",
       "      <td>0</td>\n",
       "      <td>52</td>\n",
       "      <td>5178</td>\n",
       "      <td>0</td>\n",
       "      <td>0</td>\n",
       "      <td>1</td>\n",
       "      <td>0</td>\n",
       "      <td>0</td>\n",
       "      <td>0</td>\n",
       "      <td>...</td>\n",
       "      <td>1</td>\n",
       "      <td>0</td>\n",
       "      <td>1</td>\n",
       "      <td>0</td>\n",
       "      <td>1</td>\n",
       "      <td>0</td>\n",
       "      <td>0</td>\n",
       "      <td>0</td>\n",
       "      <td>1</td>\n",
       "      <td>0</td>\n",
       "    </tr>\n",
       "  </tbody>\n",
       "</table>\n",
       "<p>5 rows × 118 columns</p>\n",
       "</div>"
      ],
      "text/plain": [
       "   age  wage_ph  weeks_worked  investment_income  workclass_Never worked  \\\n",
       "0   73        0             0                  0                       0   \n",
       "1   58        0            52                  0                       0   \n",
       "2   18        0             0                  0                       0   \n",
       "5   48     1200            52                  0                       0   \n",
       "6   42        0            52               5178                       0   \n",
       "\n",
       "   workclass_Other  workclass_Private  workclass_Self-employed  \\\n",
       "0                1                  0                        0   \n",
       "1                0                  0                        1   \n",
       "2                1                  0                        0   \n",
       "5                0                  1                        0   \n",
       "6                0                  1                        0   \n",
       "\n",
       "   education_HSD and some college  education_No high school diploma  ...  \\\n",
       "0                               1                                 0  ...   \n",
       "1                               1                                 0  ...   \n",
       "2                               0                                 1  ...   \n",
       "5                               1                                 0  ...   \n",
       "6                               0                                 0  ...   \n",
       "\n",
       "   father_country_United States  mother_country_Other  \\\n",
       "0                             1                     0   \n",
       "1                             1                     0   \n",
       "2                             0                     1   \n",
       "5                             0                     0   \n",
       "6                             1                     0   \n",
       "\n",
       "   mother_country_United States  self_country_Other  \\\n",
       "0                             1                   0   \n",
       "1                             1                   0   \n",
       "2                             0                   1   \n",
       "5                             1                   0   \n",
       "6                             1                   0   \n",
       "\n",
       "   self_country_United States  own_business_1  own_business_2  vet_benefit_1  \\\n",
       "0                           1               0               0              0   \n",
       "1                           1               0               0              0   \n",
       "2                           0               0               0              0   \n",
       "5                           1               0               1              0   \n",
       "6                           1               0               0              0   \n",
       "\n",
       "   vet_benefit_2  year_95  \n",
       "0              1        1  \n",
       "1              1        0  \n",
       "2              1        1  \n",
       "5              1        1  \n",
       "6              1        0  \n",
       "\n",
       "[5 rows x 118 columns]"
      ]
     },
     "execution_count": 28,
     "metadata": {},
     "output_type": "execute_result"
    }
   ],
   "source": [
    "X_train.head()"
   ]
  },
  {
   "cell_type": "markdown",
   "id": "5ecd78f6-4a24-48fa-bc86-001ff18a59f3",
   "metadata": {},
   "source": [
    "#### Scaling numeric features"
   ]
  },
  {
   "cell_type": "markdown",
   "id": "8f490230-a6c4-4733-b0d5-e5144daf3647",
   "metadata": {},
   "source": [
    "In this section, we focus on preparing our data by standardizing the range of numeric features. By applying techniques like normalization and standardization, we ensure that our features have similar scales and distributions. This step is crucial for many machine learning algorithms, as it helps prevent certain features from dominating others and ensures fair comparisons. Ultimately, feature scaling enhances the performance and stability of our models."
   ]
  },
  {
   "cell_type": "code",
   "execution_count": 29,
   "id": "f3cc0ece-c75c-488c-b355-54b89ba4e9d3",
   "metadata": {},
   "outputs": [],
   "source": [
    "# define numeric columns\n",
    "int_cols = train.select_dtypes(\"int64\").columns\n",
    "\n",
    "# initialize the scaler\n",
    "scaler = preprocessing.StandardScaler()"
   ]
  },
  {
   "cell_type": "code",
   "execution_count": 30,
   "id": "63504aae-a948-4641-8b57-5c891c03f7e9",
   "metadata": {},
   "outputs": [],
   "source": [
    "# make a copy of each set\n",
    "X_train_copy = X_train.copy()\n",
    "X_test_copy = X_test.copy()\n",
    "#X_val_copy = X_val.copy()\n",
    "\n",
    "# fit the transform on the train set and apply to test\n",
    "X_train_copy[int_cols] = scaler.fit_transform(X_train[int_cols]).copy()\n",
    "#X_val_copy[int_cols] = scaler.transform(X_val[int_cols]).copy()\n",
    "X_test_copy[int_cols] = scaler.transform(X_test[int_cols]).copy()"
   ]
  },
  {
   "cell_type": "code",
   "execution_count": 31,
   "id": "657144c8-3bcb-4c0b-9c59-faa1e964cec6",
   "metadata": {},
   "outputs": [],
   "source": [
    "X_train = X_train_copy\n",
    "#X_val = X_val_copy\n",
    "X_test = X_test_copy"
   ]
  },
  {
   "cell_type": "markdown",
   "id": "218919e8-10df-4a59-931c-9749f24d5ec2",
   "metadata": {},
   "source": [
    "#### Addressing Class Imbalance in the Target Variable\n",
    "\n",
    "In this section, we tackle the issue of class imbalance in our dataset. Class imbalance occurs when the number of instances in one class significantly outweighs the number of instances in the other class, leading to biased model performance. To mitigate this problem, we employ resampling techniques.\n",
    "\n",
    "Resampling involves modifying the class distribution by either oversampling the minority class or undersampling the majority class. Oversampling increases the number of instances in the minority class, while undersampling decreases the number of instances in the majority class. These techniques aim to balance the class distribution, allowing the model to learn from a more representative sample.\n",
    "\n",
    "We explore two common resampling methods: oversampling using the Synthetic Minority Over-sampling Technique (SMOTE) and undersampling using Near Miss Under Sampling.\n",
    "\n",
    "By applying these resampling techniques, we can alleviate the impact of class imbalance and improve the performance of our models in accurately predicting the minority class. Finally, we settle on the undersampling approach for this project."
   ]
  },
  {
   "cell_type": "code",
   "execution_count": 32,
   "id": "da1349cd-47d0-4fc8-badd-19f18ef37898",
   "metadata": {},
   "outputs": [
    {
     "name": "stdout",
     "output_type": "stream",
     "text": [
      "Train shape: (73650, 118)\n",
      "Test shape: (99762, 118)\n"
     ]
    }
   ],
   "source": [
    "nm = NearMiss(sampling_strategy=0.2)\n",
    "X_under, y_under = nm.fit_resample(X_train, y_train)\n",
    "X_under, y_under = nm.fit_resample(X_train, y_train)\n",
    "\n",
    "# Check the shapes of all three sets\n",
    "print(\"Train shape:\", X_under.shape)\n",
    "#print(\"Val shape:\", X_val.shape)\n",
    "print(\"Test shape:\", X_test.shape)"
   ]
  },
  {
   "cell_type": "markdown",
   "id": "fb3b6edd-091c-44f4-84c3-4f7028035e95",
   "metadata": {},
   "source": [
    "## Modeling\n",
    "\n",
    "In the modeling phase of our project, we apply various machine learning algorithms to train models that can accurately predict the income classification. We explore different algorithms such as Logistic Regression and Random Forests, to find the best-performing model for our task. We evaluate the models using appropriate performance metrics such as accuracy, precision, recall, and F1-score. Through this process, we aim to identify the most effective model that can generalize well to unseen data and provide reliable predictions for income classification.\n",
    "\n",
    "We evaluate competing models by examining their performance on the validation set. If we had more time and computing power for this project, we would have Finally, we choose the best model and proceed to find important features that can help address our project question.\n",
    "\n",
    "#### Hyperparameter tuning\n",
    "Hyperparameter tuning plays a critical role in optimizing machine learning models. Hyperparameters are configuration settings that are set before training a model and can significantly impact its performance. By adjusting these hyperparameters, we aim to find the optimal combination that maximizes the model's performance metrics. Hyperparameter tuning involves systematically searching for the best hyperparameter values that strike the right balance between model complexity and generalizability. Through this process, we can enhance our models' accuracy, robustness, and ability to make accurate predictions on unseen data.\n",
    "\n",
    "Unfortunately, we do not have enough computing power and time to conduct a thorough hyperparameter tuning process using a grid search for this dataset. Thus we use the default settings in some cases and conduct a manual tuning process to find \"best\" parameters for each of the models."
   ]
  },
  {
   "cell_type": "markdown",
   "id": "1ca97585-e7ce-43bb-b149-ca380c6e48a7",
   "metadata": {},
   "source": [
    "### Logistic Regression\n",
    "\n",
    "We utilize logistic regression as a powerful algorithm for predicting whether an individual's income exceeds a certain threshold. Logistic regression is a popular choice for binary classification problems, where we aim to categorize instances into one of two classes.\n",
    "\n",
    "Logistic regression works by estimating the probability of an instance belonging to a particular class based on its input features. Unlike linear regression, logistic regression uses a logistic function to transform the output into a probability value between 0 and 1. This makes it well-suited for tasks where we want to understand the likelihood of an outcome occurring.\n",
    "\n",
    "By fitting the logistic regression model to our training data, we can learn the relationships between the input features and the target variable, allowing us to make predictions on new, unseen data. Logistic regression provides interpretable results, as we can examine the coefficients of the model to understand the direction and magnitude of the influence of each feature on the classification outcome."
   ]
  },
  {
   "cell_type": "code",
   "execution_count": 35,
   "id": "079c0088-ce7b-45f9-aaac-146d6dd72433",
   "metadata": {},
   "outputs": [],
   "source": [
    "# Create the Logistic Regression Classifier\n",
    "lr = LogisticRegression(solver='liblinear', random_state=56)\n",
    "\n",
    "# Train the classifier\n",
    "lr.fit(X_under, y_under)\n",
    "\n",
    "# Make predictions on the test set\n",
    "y_pred = lr.predict(X_test)"
   ]
  },
  {
   "cell_type": "code",
   "execution_count": 36,
   "id": "890159ae-519f-4944-a6c1-f20fb977f0f1",
   "metadata": {},
   "outputs": [
    {
     "name": "stdout",
     "output_type": "stream",
     "text": [
      "Confusion matrix:\n",
      " [[90930  2646]\n",
      " [ 3692  2494]]\n",
      "\n",
      "Classification Report:\n",
      "               precision    recall  f1-score   support\n",
      "\n",
      "    - 50000.       0.96      0.97      0.97     93576\n",
      "     50000+.       0.49      0.40      0.44      6186\n",
      "\n",
      "    accuracy                           0.94     99762\n",
      "   macro avg       0.72      0.69      0.70     99762\n",
      "weighted avg       0.93      0.94      0.93     99762\n",
      "\n"
     ]
    }
   ],
   "source": [
    "print(\"Confusion matrix:\\n\", confusion_matrix(y_test, y_pred))\n",
    "print(\"\\nClassification Report:\\n\", classification_report(y_test, y_pred))"
   ]
  },
  {
   "cell_type": "markdown",
   "id": "cdcd0921-1f0c-4532-b94d-bd6ad7c1717c",
   "metadata": {},
   "source": [
    "### Random Forest Classifier\n",
    "\n",
    "We use the random forest algorithm as a robust approach for predicting whether an individual's income exceeds a certain threshold. Random forest is an ensemble learning method that combines multiple decision trees to make accurate and reliable predictions.\n",
    "\n",
    "Random forest works by constructing an ensemble of decision trees, where each tree is built using a random subset of features and a random subset of the training data. The individual decision trees are trained to make predictions independently, and the final prediction is obtained by aggregating the predictions from all the trees.\n",
    "\n",
    "The strength of random forest lies in its ability to handle complex relationships between features and the target variable. It can capture non-linear interactions, handle high-dimensional data, and handle missing values and outliers effectively. Additionally, random forest is resistant to overfitting and tends to provide robust performance even in the presence of noisy data.\n",
    "\n",
    "By leveraging the power of random forest, we aim to identify the important features that contribute to income classification and develop a highly accurate predictive model. The random forest algorithm allows us to assess the importance of each feature, providing valuable insights into the factors that have the most significant impact on income classification.\n",
    "\n"
   ]
  },
  {
   "cell_type": "code",
   "execution_count": 65,
   "id": "994443a6-4edb-46d0-9e3f-5003849ebdc9",
   "metadata": {},
   "outputs": [],
   "source": [
    "# Create the random forest classifier\n",
    "rf = RandomForestClassifier(n_estimators=45, max_depth=20, max_features='sqrt', random_state=23)\n",
    "\n",
    "# Train the classifier\n",
    "rf.fit(X_under, y_under)\n",
    "\n",
    "# Make predictions on the test set\n",
    "y_pred = rf.predict(X_test)"
   ]
  },
  {
   "cell_type": "code",
   "execution_count": 66,
   "id": "7481f80b-7eba-49aa-8137-b29ef518eb2a",
   "metadata": {},
   "outputs": [
    {
     "name": "stdout",
     "output_type": "stream",
     "text": [
      "Confusion matrix:\n",
      " [[89745  3831]\n",
      " [ 3718  2468]]\n",
      "\n",
      "Classification Report:\n",
      "               precision    recall  f1-score   support\n",
      "\n",
      "    - 50000.       0.96      0.96      0.96     93576\n",
      "     50000+.       0.39      0.40      0.40      6186\n",
      "\n",
      "    accuracy                           0.92     99762\n",
      "   macro avg       0.68      0.68      0.68     99762\n",
      "weighted avg       0.92      0.92      0.92     99762\n",
      "\n"
     ]
    }
   ],
   "source": [
    "print(\"Confusion matrix:\\n\", confusion_matrix(y_test, y_pred))\n",
    "print(\"\\nClassification Report:\\n\", classification_report(y_test, y_pred))"
   ]
  },
  {
   "cell_type": "markdown",
   "id": "dc98fde9-7f9e-4b9b-8c11-26ff0bf4c90f",
   "metadata": {},
   "source": [
    "#### Interpretation of Results and Model Selection\n",
    "\n",
    "Both models achieve accuracy scores above 90%, with logistic regression attaining a score of 94% and random forest achieving 92%. However, given the nature of our problem, accuracy score is not sufficient to judge the models. We also check for the dropoff between precision and recall for the minority class.\n",
    "\n",
    "When the precision and recall are similar for the minority class, it indicates a balanced performance in correctly identifying positive instances (minority class) while minimizing false positives. This scenario is particularly important in imbalanced classification problems where the minority class is of higher interest or significance.\n",
    "\n",
    "For this reason, we select the random forest model for the next stage of our analysis."
   ]
  },
  {
   "cell_type": "markdown",
   "id": "49ece83c-8c6e-441f-a23e-211b2976f913",
   "metadata": {
    "tags": []
   },
   "source": [
    "## Feature Importance: Factors Affecting Income Class\n",
    "\n",
    "Feature importance refers to the technique used to identify the most relevant features or variables that contribute significantly to the predictive power of a model. In the context of our project question of income classification, feature importance helps us understand which specific characteristics or factors are influential in determining whether a person makes more or less than $50,000 per year. By examining the feature importance, we can gain insights into the key drivers that differentiate the two income groups and understand which variables have the most significant impact on the classification outcome. This information can guide us in interpreting the model's predictions and potentially uncover important socio-economic or demographic factors associated with income levels.\n",
    "\n",
    "#### Feature Importance of Our Random Forest Model\n",
    "\n",
    "The feature importance in a Random Forest model is determined by assessing the contribution of each feature in the decision-making process of the ensemble. Random Forest calculates feature importance based on the concept of \"Gini importance\" or \"mean decrease impurity.\" Gini importance measures the total reduction in impurity achieved by splitting on a particular feature across all trees in the forest. It quantifies how much a feature improves the homogeneity of the target variable within the nodes of the trees. Features that lead to the largest reduction in impurity are considered more important.\n",
    "\n",
    "The feature importance values are normalized, with higher values indicating greater importance. The normalized importance values can be used to rank the features based on their relative significance in the model. By examining the feature importance in our Random Forest model, we can identify the key variables that contribute the most to the predictive performance of the model. These important features provide insights into which factors have the strongest influence on the target variable and can help in understanding the underlying patterns and relationships in the data.\n",
    "\n",
    "##### Limitations\n",
    "It is important to note that random forests have a stochastic nature, meaning the feature importances can vary across different runs of the model. To address this variability and obtain a more reliable assessment of feature importance, an ensemble of multiple random forests can be created. By training and evaluating a large number of random forests (e.g., 1000 models), the feature importances can be collected from each model and averaged out. This ensemble approach helps to reduce the impact of randomness and provides a more robust estimation of the true feature importances.\n",
    "\n",
    "Unfortunately, due to limitations in computing power, we were unable to perform this ensemble of random forests in our project. However, it is worth considering in future studies or with access to more computational resources. This approach would provide a more comprehensive understanding of which features consistently contribute significantly to predicting income class, enhancing the reliability of our feature importance analysis.\n",
    "\n",
    "\n",
    "\n",
    "\n"
   ]
  },
  {
   "cell_type": "code",
   "execution_count": 67,
   "id": "4bf75f5d-365d-4a60-9769-2376554c172d",
   "metadata": {},
   "outputs": [],
   "source": [
    "# Get feature importances\n",
    "importances = rf.feature_importances_\n",
    "\n",
    "# Create a DataFrame to store feature importance\n",
    "feature_importance_df = pd.DataFrame({'Feature': X_under.columns, 'Importance': importances})\n",
    "\n",
    "# Sort the DataFrame by feature importance in descending order\n",
    "feature_importance_df = feature_importance_df.sort_values(by='Importance', ascending=False)\n"
   ]
  },
  {
   "cell_type": "code",
   "execution_count": 74,
   "id": "fc132fa4-19c1-4f0c-97ff-7de8fc875b77",
   "metadata": {},
   "outputs": [
    {
     "data": {
      "image/png": "[encoded data removed]",
      "text/plain": [
       "<Figure size 600x600 with 1 Axes>"
      ]
     },
     "metadata": {},
     "output_type": "display_data"
    }
   ],
   "source": [
    "# Selecting the top twenty features\n",
    "top_features = feature_importance_df.nlargest(20, 'Importance').sort_values('Importance', ascending=True)\n",
    "\n",
    "# Plotting the top twenty feature importance\n",
    "plt.figure(figsize=(6, 6))\n",
    "plt.barh(top_features['Feature'], top_features['Importance'])\n",
    "plt.xlabel('Importance')\n",
    "plt.ylabel('Feature')\n",
    "plt.title('Top 20 Feature Importance')\n",
    "plt.show()\n"
   ]
  },
  {
   "cell_type": "markdown",
   "id": "ab39aadf-717a-472b-b8a0-77395fccdf39",
   "metadata": {},
   "source": [
    "## Conclusion\n",
    "\n",
    "Based on the feature importance plot above, we see that invvestment income is an important feature in income classification because it provides insights into an individual's financial portfolio and wealth accumulation. Income from investments, such as capital gains, dividends, and stock sales, can significantly contribute to a person's overall income and financial stability.\n",
    "\n",
    "In addition to investment income, several other features play significant roles in income classification. Age is an important factor, as it often correlates with work experience and seniority level in a job. Generally, as individuals gain more experience and progress in their careers, their income tends to increase.\n",
    "\n",
    "Sex or gender is another variable that has been found to influence income classification. Although it is crucial to approach this factor with caution and ensure fairness and equality, various studies have shown that gender disparities exist in income levels, with certain industries and occupations favoring one gender over the other.\n",
    "\n",
    "Education is a well-established predictor of income. Higher levels of education, such as advanced degrees or specialized certifications, can provide individuals with the knowledge and skills required for higher-paying professions. Education level often reflects the individual's qualifications and expertise, which can impact their earning potential.\n",
    "\n",
    "Being an executive or holding an administrative position is often associated with higher incomes. Executives and administrators typically hold managerial or decision-making roles within organizations, which are often accompanied by higher salaries and benefits.\n",
    "\n",
    "Considering these factors, it becomes evident that investment income, age, sex, education, and occupational roles, such as being an executive or administrator, are crucial features in income classification. By understanding the relationships between these variables and income levels, we can gain valuable insights into the factors that contribute to higher or lower incomes in our dataset.\n"
   ]
  },
  {
   "cell_type": "code",
   "execution_count": null,
   "id": "3ee6874e-b3cb-43bd-9500-9450a9de73a9",
   "metadata": {},
   "outputs": [],
   "source": []
  }
 ],
 "metadata": {
  "kernelspec": {
   "display_name": "Python 3 (ipykernel)",
   "language": "python",
   "name": "python3"
  },
  "language_info": {
   "codemirror_mode": {
    "name": "ipython",
    "version": 3
   },
   "file_extension": ".py",
   "mimetype": "text/x-python",
   "name": "python",
   "nbconvert_exporter": "python",
   "pygments_lexer": "ipython3",
   "version": "3.10.9"
  }
 },
 "nbformat": 4,
 "nbformat_minor": 5
}
